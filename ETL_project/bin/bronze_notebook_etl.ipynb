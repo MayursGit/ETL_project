{
 "cells": [
  {
   "cell_type": "code",
   "execution_count": 0,
   "metadata": {
    "application/vnd.databricks.v1+cell": {
     "cellMetadata": {
      "byteLimit": 2048000,
      "rowLimit": 10000
     },
     "inputWidgets": {},
     "nuid": "30a0fb70-f861-4ca5-ba35-30d033043d3e",
     "showTitle": false,
     "tableResultSettingsMap": {},
     "title": ""
    }
   },
   "outputs": [],
   "source": [
    "import sys\n",
    "sys.path.append(\"/Workspace/Users/mayur10594@gmail.com/ETL_project\")"
   ]
  },
  {
   "cell_type": "code",
   "execution_count": 0,
   "metadata": {
    "application/vnd.databricks.v1+cell": {
     "cellMetadata": {
      "byteLimit": 2048000,
      "rowLimit": 10000
     },
     "inputWidgets": {},
     "nuid": "7dcf80c0-3866-4061-8417-4305b716b8ba",
     "showTitle": false,
     "tableResultSettingsMap": {},
     "title": ""
    }
   },
   "outputs": [],
   "source": [
    "from pyspark.sql.functions import *\n",
    "from pyspark.sql.types import *\n",
    "from config.utils import get_logger\n",
    "logger = get_logger(\"bronze\")"
   ]
  },
  {
   "cell_type": "code",
   "execution_count": 0,
   "metadata": {
    "application/vnd.databricks.v1+cell": {
     "cellMetadata": {
      "byteLimit": 2048000,
      "rowLimit": 10000
     },
     "inputWidgets": {},
     "nuid": "266a8db5-7767-4ed0-abc7-cb094a884cf8",
     "showTitle": false,
     "tableResultSettingsMap": {},
     "title": ""
    }
   },
   "outputs": [],
   "source": [
    "dbutils.widgets.text(\"fileList\", \"\")\n",
    "dbutils.widgets.text(\"taxYear\", \"\")\n",
    "dbutils.widgets.text(\"clientId\", \"\")\n",
    "dbutils.widgets.text(\"env\",\"\")\n",
    "fileList = dbutils.widgets.get(\"fileList\")\n",
    "taxYear = dbutils.widgets.get(\"taxYear\")\n",
    "clientId = dbutils.widgets.get(\"clientId\")\n",
    "env = dbutils.widgets.get(\"env\")\n",
    "logger.info(f\"fileList: {fileList}, taxYear: {taxYear}, clientId: {clientId}, env: {env}\")\n"
   ]
  },
  {
   "cell_type": "code",
   "execution_count": 0,
   "metadata": {
    "application/vnd.databricks.v1+cell": {
     "cellMetadata": {
      "byteLimit": 2048000,
      "rowLimit": 10000
     },
     "inputWidgets": {},
     "nuid": "1b3f65fb-0b32-44f6-806a-36b3fda459d3",
     "showTitle": false,
     "tableResultSettingsMap": {},
     "title": ""
    }
   },
   "outputs": [],
   "source": [
    "import json, yaml, os\n",
    "from config.utils import load_config,create_tables,load_all_schemas"
   ]
  },
  {
   "cell_type": "code",
   "execution_count": 0,
   "metadata": {
    "application/vnd.databricks.v1+cell": {
     "cellMetadata": {
      "byteLimit": 2048000,
      "rowLimit": 10000
     },
     "inputWidgets": {},
     "nuid": "a5dc24f7-68a6-4089-805d-a4852e2f7fc7",
     "showTitle": false,
     "tableResultSettingsMap": {},
     "title": ""
    }
   },
   "outputs": [],
   "source": [
    "schemas_map = load_all_schemas()\n",
    "print(\"All schemas loaded:\", schemas_map.keys())"
   ]
  },
  {
   "cell_type": "code",
   "execution_count": 0,
   "metadata": {
    "application/vnd.databricks.v1+cell": {
     "cellMetadata": {
      "byteLimit": 2048000,
      "rowLimit": 10000
     },
     "inputWidgets": {},
     "nuid": "05e9fd97-1c0a-482c-b2e8-19cd589868e1",
     "showTitle": false,
     "tableResultSettingsMap": {},
     "title": ""
    }
   },
   "outputs": [],
   "source": [
    "path=\"/Workspace/Users/mayur10594@gmail.com/ETL_project/config/etl_main.yaml\"\n",
    "env_config,tables_config=load_config(path,env)"
   ]
  },
  {
   "cell_type": "code",
   "execution_count": 0,
   "metadata": {
    "application/vnd.databricks.v1+cell": {
     "cellMetadata": {
      "byteLimit": 2048000,
      "rowLimit": 10000
     },
     "inputWidgets": {},
     "nuid": "e3bd47a3-49f3-4458-9908-57620e849a42",
     "showTitle": false,
     "tableResultSettingsMap": {},
     "title": ""
    }
   },
   "outputs": [],
   "source": [
    "in_path=env_config['incoming_path']\n",
    "bronze_path=env_config['bronze_path']\n",
    "logger.info(f\"Loading data from {in_path}\")\n",
    "logger.info(f\"bronze_path is set to {bronze_path}\")\n",
    "logger.info(f\"env is set to {env}\")\n",
    "logger.info(f\"taxYear is set to {taxYear}\")\n",
    "logger.info(f\"clientId is set to {clientId}\")"
   ]
  },
  {
   "cell_type": "code",
   "execution_count": 0,
   "metadata": {
    "application/vnd.databricks.v1+cell": {
     "cellMetadata": {
      "byteLimit": 2048000,
      "rowLimit": 10000
     },
     "inputWidgets": {},
     "nuid": "8d4d0bd8-df13-45dd-a39c-a75f0b11f29e",
     "showTitle": false,
     "tableResultSettingsMap": {},
     "title": ""
    }
   },
   "outputs": [],
   "source": [
    "#creating list of files\n",
    "if \",\" in fileList:\n",
    "    files=list(fileList.split(\",\"))\n",
    "    logger.info(f\"files to be processed: {fileList}\")\n",
    "else:\n",
    "    files=[fileList]\n",
    "    logger.info(f\"only single file to be processed: {fileList}\")"
   ]
  },
  {
   "cell_type": "code",
   "execution_count": 0,
   "metadata": {
    "application/vnd.databricks.v1+cell": {
     "cellMetadata": {
      "byteLimit": 2048000,
      "rowLimit": 10000
     },
     "inputWidgets": {},
     "nuid": "147540a9-cd11-419e-aedd-3dd1906ef963",
     "showTitle": false,
     "tableResultSettingsMap": {},
     "title": ""
    }
   },
   "outputs": [],
   "source": [
    "maps=[]\n",
    "for file in files:\n",
    "    maps.append(file.split(\"_\")[0])\n",
    "    #print(file)\n",
    "logger.info(f\"maps to be processed are {maps}\")"
   ]
  },
  {
   "cell_type": "code",
   "execution_count": 0,
   "metadata": {
    "application/vnd.databricks.v1+cell": {
     "cellMetadata": {
      "byteLimit": 2048000,
      "rowLimit": 10000
     },
     "inputWidgets": {},
     "nuid": "84078405-7289-4959-a545-d7acd33330d9",
     "showTitle": false,
     "tableResultSettingsMap": {},
     "title": ""
    }
   },
   "outputs": [],
   "source": [
    "path=\"/Workspace/Users/mayur10594@gmail.com/ETL_project/config/etl_main.yaml\"\n",
    "env_config,tables_config=load_config(path,env)"
   ]
  },
  {
   "cell_type": "code",
   "execution_count": 0,
   "metadata": {
    "application/vnd.databricks.v1+cell": {
     "cellMetadata": {
      "byteLimit": 2048000,
      "rowLimit": 10000
     },
     "inputWidgets": {},
     "nuid": "772b189e-5098-40e7-9d0d-98555923d0f8",
     "showTitle": false,
     "tableResultSettingsMap": {},
     "title": ""
    }
   },
   "outputs": [],
   "source": [
    "in_path=env_config['incoming_path']"
   ]
  },
  {
   "cell_type": "code",
   "execution_count": 0,
   "metadata": {
    "application/vnd.databricks.v1+cell": {
     "cellMetadata": {
      "byteLimit": 2048000,
      "rowLimit": 10000
     },
     "inputWidgets": {},
     "nuid": "87262df0-7352-4cda-bf6b-e32752fdb589",
     "showTitle": false,
     "tableResultSettingsMap": {},
     "title": ""
    }
   },
   "outputs": [],
   "source": [
    "#check if files exists in incoming folder else exit the notebook\n",
    "in_files=[f.name for f in dbutils.fs.ls(in_path)]\n",
    "for file in files:\n",
    "        if file in in_files:\n",
    "            #print(f\"File {file} exists\")\n",
    "            logger.info(f\"File {file} exists\")\n",
    "        else:\n",
    "            #print(f\"File {file} does not exist in incoming folder, Please check & re-run again\")\n",
    "            logger.error(f\"File {file} does not exist in incoming folder, Please check & re-run again\")\n",
    "            dbutils.notebook.exit(\"Missing File\")\n",
    "        "
   ]
  },
  {
   "cell_type": "code",
   "execution_count": 0,
   "metadata": {
    "application/vnd.databricks.v1+cell": {
     "cellMetadata": {
      "byteLimit": 2048000,
      "rowLimit": 10000
     },
     "inputWidgets": {},
     "nuid": "b4ff8749-47d8-4a9c-a953-43e08694989a",
     "showTitle": false,
     "tableResultSettingsMap": {},
     "title": ""
    }
   },
   "outputs": [],
   "source": [
    "# Dictionary to hold DataFrames\n",
    "dfs = {}\n",
    "\n",
    "for map_name in maps:\n",
    "    # Build CSV path\n",
    "    csv_path = f\"{in_path}/{map_name}_data.csv\"\n",
    "    schema = schemas_map[f\"{map_name}.{map_name}\"]\n",
    "    # Evaluate schema string (assumes map_name_schema exists as a variable)\n",
    "    #schema = eval(f\"{map_name}_schema\")\n",
    "    # Read CSV into DataFrame\n",
    "    df = spark.read.csv(csv_path,schema=schema,header=True)\n",
    "    #df=df.transform(add_audit_cols)\n",
    "    # Store in dictionary\n",
    "    dfs[map_name] = df\n",
    "    #print(f\"df_{map_name} is created and stored in dfs['{map_name}']\")\n",
    "    logger.info(f\"df_{map_name} is created and stored in dfs['{map_name}']\")\n"
   ]
  },
  {
   "cell_type": "code",
   "execution_count": 0,
   "metadata": {
    "application/vnd.databricks.v1+cell": {
     "cellMetadata": {
      "byteLimit": 2048000,
      "rowLimit": 10000
     },
     "inputWidgets": {},
     "nuid": "2987a7bc-7d9a-47d1-94b9-6e6d6b8a3aaf",
     "showTitle": false,
     "tableResultSettingsMap": {},
     "title": ""
    }
   },
   "outputs": [],
   "source": [
    "from datetime import date\n",
    "date_str = date.today().strftime(\"%Y-%m-%d\")"
   ]
  },
  {
   "cell_type": "code",
   "execution_count": 0,
   "metadata": {
    "application/vnd.databricks.v1+cell": {
     "cellMetadata": {
      "byteLimit": 2048000,
      "rowLimit": 10000
     },
     "inputWidgets": {},
     "nuid": "38c37080-99ae-4375-86da-c43805f4a4eb",
     "showTitle": false,
     "tableResultSettingsMap": {},
     "title": ""
    }
   },
   "outputs": [],
   "source": [
    "bronze_out_path = f\"{bronze_path}/{taxYear}/{clientId}/{date_str}\""
   ]
  },
  {
   "cell_type": "code",
   "execution_count": 0,
   "metadata": {
    "application/vnd.databricks.v1+cell": {
     "cellMetadata": {},
     "inputWidgets": {},
     "nuid": "f33b79ce-b195-4dbe-a9ca-0fe97aa94409",
     "showTitle": false,
     "tableResultSettingsMap": {},
     "title": ""
    }
   },
   "outputs": [],
   "source": [
    "for name,df in dfs.items():\n",
    "    count={}\n",
    "    df.write.format(\"parquet\").options(mergeSchema=True).mode('overwrite').save(f\"{bronze_out_path}/{name}_data\")\n",
    "    count[name]=df.count()\n",
    "    #print(f\"{df} written to delta table dbfs.{clientId}_{name}\")\n",
    "    logger.info(f\"{df} saved as parquet file at {bronze_out_path}/{name}_data\")\n",
    "\n"
   ]
  },
  {
   "cell_type": "code",
   "execution_count": 0,
   "metadata": {
    "application/vnd.databricks.v1+cell": {
     "cellMetadata": {},
     "inputWidgets": {},
     "nuid": "68975104-8cdc-47b5-8a8e-c533c2e68346",
     "showTitle": false,
     "tableResultSettingsMap": {},
     "title": ""
    }
   },
   "outputs": [],
   "source": [
    "logger.info(f\"exiting the bronze notebook\")\n",
    "dbutils.notebook.exit(json.dumps({\n",
    "    \"status\": \"OK\",\n",
    "    \"message\": \"All files processed successfully\",\n",
    "    \"counts\": count,\n",
    "    \"bronze_path\": bronze_out_path,\n",
    "    \"maps\":maps\n",
    "}))"
   ]
  }
 ],
 "metadata": {
  "application/vnd.databricks.v1+notebook": {
   "computePreferences": null,
   "dashboards": [],
   "environmentMetadata": {
    "base_environment": "",
    "environment_version": "3"
   },
   "inputWidgetPreferences": null,
   "language": "python",
   "notebookMetadata": {
    "pythonIndentUnit": 4
   },
   "notebookName": "bronze_notebook_etl",
   "widgets": {
    "clientId": {
     "currentValue": "se2",
     "nuid": "05d06f67-7428-4e4f-85ec-59cc65d72d6f",
     "typedWidgetInfo": {
      "autoCreated": false,
      "defaultValue": "",
      "label": null,
      "name": "clientId",
      "options": {
       "widgetDisplayType": "Text",
       "validationRegex": null
      },
      "parameterDataType": "String"
     },
     "widgetInfo": {
      "widgetType": "text",
      "defaultValue": "",
      "label": null,
      "name": "clientId",
      "options": {
       "widgetType": "text",
       "autoCreated": null,
       "validationRegex": null
      }
     }
    },
    "env": {
     "currentValue": "dev",
     "nuid": "27eca06e-a238-431b-a94b-861c02cf6515",
     "typedWidgetInfo": {
      "autoCreated": false,
      "defaultValue": "",
      "label": null,
      "name": "env",
      "options": {
       "widgetDisplayType": "Text",
       "validationRegex": null
      },
      "parameterDataType": "String"
     },
     "widgetInfo": {
      "widgetType": "text",
      "defaultValue": "",
      "label": null,
      "name": "env",
      "options": {
       "widgetType": "text",
       "autoCreated": null,
       "validationRegex": null
      }
     }
    },
    "fileList": {
     "currentValue": "cards_data.csv,users_data.csv",
     "nuid": "07bccb3d-4296-44d1-8b35-d24d15787c5b",
     "typedWidgetInfo": {
      "autoCreated": false,
      "defaultValue": "",
      "label": null,
      "name": "fileList",
      "options": {
       "widgetDisplayType": "Text",
       "validationRegex": null
      },
      "parameterDataType": "String"
     },
     "widgetInfo": {
      "widgetType": "text",
      "defaultValue": "",
      "label": null,
      "name": "fileList",
      "options": {
       "widgetType": "text",
       "autoCreated": null,
       "validationRegex": null
      }
     }
    },
    "taxYear": {
     "currentValue": "2024",
     "nuid": "7de16413-cb82-4094-a62e-616eb0b1ca34",
     "typedWidgetInfo": {
      "autoCreated": false,
      "defaultValue": "",
      "label": null,
      "name": "taxYear",
      "options": {
       "widgetDisplayType": "Text",
       "validationRegex": null
      },
      "parameterDataType": "String"
     },
     "widgetInfo": {
      "widgetType": "text",
      "defaultValue": "",
      "label": null,
      "name": "taxYear",
      "options": {
       "widgetType": "text",
       "autoCreated": null,
       "validationRegex": null
      }
     }
    }
   }
  },
  "language_info": {
   "name": "python"
  }
 },
 "nbformat": 4,
 "nbformat_minor": 0
}
