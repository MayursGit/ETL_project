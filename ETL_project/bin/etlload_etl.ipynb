{
 "cells": [
  {
   "cell_type": "code",
   "execution_count": 0,
   "metadata": {
    "application/vnd.databricks.v1+cell": {
     "cellMetadata": {
      "byteLimit": 2048000,
      "rowLimit": 10000
     },
     "inputWidgets": {},
     "nuid": "9ce2e2ce-d58f-4ab0-b964-6ea62a3ce9b5",
     "showTitle": false,
     "tableResultSettingsMap": {},
     "title": ""
    }
   },
   "outputs": [],
   "source": [
    "import json\n",
    "import sys\n",
    "sys.path.append(\"/Workspace/Users/mayur10594@gmail.com/ETL_project\")\n",
    "from config.utils import get_logger\n",
    "logger = get_logger(\"etl_load\")\n"
   ]
  },
  {
   "cell_type": "code",
   "execution_count": 0,
   "metadata": {
    "application/vnd.databricks.v1+cell": {
     "cellMetadata": {
      "byteLimit": 2048000,
      "rowLimit": 10000
     },
     "inputWidgets": {},
     "nuid": "b8e30d1b-f013-4aa1-99a9-d2b0a61bc527",
     "showTitle": false,
     "tableResultSettingsMap": {},
     "title": ""
    }
   },
   "outputs": [],
   "source": [
    "sys.path.append(\"/Workspace/Users/mayur10594@gmail.com/ETL_project/bin\")\n",
    "logger.info(\"etlload.ipynb\")\n",
    "logger.info(\"running bronze_notebook\")\n",
    "bronze_results_str=dbutils.notebook.run(\n",
    "    \"bronze_notebook_etl\",\n",
    "    600,\n",
    "    {\n",
    "        \"env\": \"dev\",\n",
    "        \"fileList\": \"cards_data.csv,users_data.csv,transactions_data.csv\",\n",
    "        \"clientId\": \"se2\",\n",
    "        \"taxYear\": \"2024\"\n",
    "    }\n",
    ")"
   ]
  },
  {
   "cell_type": "code",
   "execution_count": 0,
   "metadata": {
    "application/vnd.databricks.v1+cell": {
     "cellMetadata": {
      "byteLimit": 2048000,
      "rowLimit": 10000
     },
     "inputWidgets": {},
     "nuid": "2b22f3d0-db32-49c2-b029-7f327cffa2a5",
     "showTitle": false,
     "tableResultSettingsMap": {},
     "title": ""
    }
   },
   "outputs": [],
   "source": [
    "bronze_results = json.loads(bronze_results_str)\n",
    "print(bronze_results['bronze_path'])\n",
    "print(type(json.loads((json.dumps(bronze_results['maps'])))))"
   ]
  },
  {
   "cell_type": "code",
   "execution_count": 0,
   "metadata": {
    "application/vnd.databricks.v1+cell": {
     "cellMetadata": {
      "byteLimit": 2048000,
      "rowLimit": 10000
     },
     "inputWidgets": {},
     "nuid": "4a52a556-56ce-4bc6-b285-d244cceebbf2",
     "showTitle": false,
     "tableResultSettingsMap": {},
     "title": ""
    }
   },
   "outputs": [],
   "source": [
    "sys.path.append(\"/Workspace/Users/mayur10594@gmail.com/ETL_project/bin\")\n",
    "logger.info(\"etlload.ipynb\")\n",
    "logger.info(\"running dataloadinitiate\")\n",
    "dbutils.notebook.run(\n",
    "    \"dataloadinitiate_etl\",\n",
    "    600,\n",
    "    {\n",
    "        \"bronze_path\": str(bronze_results['bronze_path']),\n",
    "        \"maps\": json.dumps(bronze_results['maps']),\n",
    "        \"env\": \"dev\",\n",
    "        \"fileList\": \"cards_data.csv,users_data.csv,transactions_data.csv\",\n",
    "        \"clientId\": \"se2\",\n",
    "        \"taxYear\": \"2024\"\n",
    "    }\n",
    ")"
   ]
  },
  {
   "cell_type": "code",
   "execution_count": 0,
   "metadata": {
    "application/vnd.databricks.v1+cell": {
     "cellMetadata": {},
     "inputWidgets": {},
     "nuid": "5abf6f29-588b-4f36-b86a-bc388ddec036",
     "showTitle": false,
     "tableResultSettingsMap": {},
     "title": ""
    }
   },
   "outputs": [],
   "source": [
    "logger.info(\"etl load process completed successfully!!!\")"
   ]
  }
 ],
 "metadata": {
  "application/vnd.databricks.v1+notebook": {
   "computePreferences": {
    "hardware": {
     "accelerator": null,
     "gpuPoolId": null,
     "memory": null
    }
   },
   "dashboards": [],
   "environmentMetadata": {
    "base_environment": "",
    "environment_version": "3"
   },
   "inputWidgetPreferences": null,
   "language": "python",
   "notebookMetadata": {
    "pythonIndentUnit": 4
   },
   "notebookName": "etlload_etl",
   "widgets": {}
  },
  "language_info": {
   "name": "python"
  }
 },
 "nbformat": 4,
 "nbformat_minor": 0
}
