{
 "cells": [
  {
   "cell_type": "code",
   "execution_count": 0,
   "metadata": {
    "application/vnd.databricks.v1+cell": {
     "cellMetadata": {
      "byteLimit": 2048000,
      "rowLimit": 10000
     },
     "inputWidgets": {},
     "nuid": "8d1d67d4-c7fd-4368-8111-55bca827240f",
     "showTitle": false,
     "tableResultSettingsMap": {},
     "title": ""
    }
   },
   "outputs": [],
   "source": [
    "%load_ext autoreload\n",
    "%autoreload 2\n",
    "# Enables autoreload; learn more at https://docs.databricks.com/en/files/workspace-modules.html#autoreload-for-python-modules\n",
    "# To disable autoreload; run %autoreload 0"
   ]
  },
  {
   "cell_type": "code",
   "execution_count": 0,
   "metadata": {
    "application/vnd.databricks.v1+cell": {
     "cellMetadata": {
      "byteLimit": 2048000,
      "rowLimit": 10000
     },
     "inputWidgets": {},
     "nuid": "b335bdfe-a950-432c-9f34-ab41c70a8be6",
     "showTitle": false,
     "tableResultSettingsMap": {},
     "title": ""
    }
   },
   "outputs": [],
   "source": [
    "from pyspark.sql.functions import *\n",
    "from pyspark.sql.types import *\n",
    "dbutils.widgets.text(\"env\",\"\")\n",
    "dbutils.widgets.text(\"client_id\",\"\")\n",
    "dbutils.widgets.text(\"tax_year\",\"\")\n",
    "env=dbutils.widgets.get(\"env\")\n",
    "tax_year=dbutils.widgets.get(\"tax_year\")\n",
    "client_id=dbutils.widgets.get(\"client_id\")"
   ]
  },
  {
   "cell_type": "code",
   "execution_count": 0,
   "metadata": {
    "application/vnd.databricks.v1+cell": {
     "cellMetadata": {
      "byteLimit": 2048000,
      "rowLimit": 10000
     },
     "inputWidgets": {},
     "nuid": "f274633c-f186-465f-9aba-ac630b57e870",
     "showTitle": false,
     "tableResultSettingsMap": {},
     "title": ""
    }
   },
   "outputs": [],
   "source": [
    "print(env,client_id,tax_year)"
   ]
  },
  {
   "cell_type": "code",
   "execution_count": 0,
   "metadata": {
    "application/vnd.databricks.v1+cell": {
     "cellMetadata": {
      "byteLimit": 2048000,
      "rowLimit": 10000
     },
     "inputWidgets": {},
     "nuid": "41d7b136-a311-41fa-90a4-a00b8b17a361",
     "showTitle": false,
     "tableResultSettingsMap": {},
     "title": ""
    }
   },
   "outputs": [],
   "source": [
    "import sys\n",
    "sys.path.append(\"/Workspace/Users/mayur10594@gmail.com/ETL_project\")"
   ]
  },
  {
   "cell_type": "code",
   "execution_count": 0,
   "metadata": {
    "application/vnd.databricks.v1+cell": {
     "cellMetadata": {
      "byteLimit": 2048000,
      "rowLimit": 10000
     },
     "inputWidgets": {},
     "nuid": "2a2b597f-5a17-42d0-9033-11237e3b30dc",
     "showTitle": false,
     "tableResultSettingsMap": {},
     "title": ""
    }
   },
   "outputs": [],
   "source": [
    "import json, yaml, os\n",
    "from config.utils import load_config,create_tables\n",
    "from schemas import user_schema,trans_schema,cards_schema"
   ]
  },
  {
   "cell_type": "code",
   "execution_count": 0,
   "metadata": {
    "application/vnd.databricks.v1+cell": {
     "cellMetadata": {
      "byteLimit": 2048000,
      "rowLimit": 10000
     },
     "inputWidgets": {},
     "nuid": "2d463854-cd61-446a-b396-747ad06f0de6",
     "showTitle": false,
     "tableResultSettingsMap": {},
     "title": ""
    }
   },
   "outputs": [],
   "source": [
    "path=\"/Workspace/Users/mayur10594@gmail.com/ETL_project/config/etl_main.yaml\"\n",
    "env_config,tables_config=load_config(path,env)"
   ]
  },
  {
   "cell_type": "code",
   "execution_count": 0,
   "metadata": {
    "application/vnd.databricks.v1+cell": {
     "cellMetadata": {
      "byteLimit": 2048000,
      "rowLimit": 10000
     },
     "inputWidgets": {},
     "nuid": "47afe4ef-7cb1-41bf-aaae-8cfc184cd0e9",
     "showTitle": false,
     "tableResultSettingsMap": {},
     "title": ""
    }
   },
   "outputs": [],
   "source": [
    "in_path=env_config['incoming_path']"
   ]
  },
  {
   "cell_type": "markdown",
   "metadata": {
    "application/vnd.databricks.v1+cell": {
     "cellMetadata": {
      "byteLimit": 2048000,
      "rowLimit": 10000
     },
     "inputWidgets": {},
     "nuid": "8cb201ed-708e-420f-973c-13141b746297",
     "showTitle": false,
     "tableResultSettingsMap": {},
     "title": ""
    }
   },
   "source": [
    "work Around just to drop duplicate column from schema"
   ]
  },
  {
   "cell_type": "code",
   "execution_count": 0,
   "metadata": {
    "application/vnd.databricks.v1+cell": {
     "cellMetadata": {
      "byteLimit": 2048000,
      "rowLimit": 10000
     },
     "collapsed": true,
     "inputWidgets": {},
     "nuid": "83a5e040-480f-4a91-9e1f-19e031c35424",
     "showTitle": false,
     "tableResultSettingsMap": {},
     "title": ""
    }
   },
   "outputs": [],
   "source": [
    "# ##workaround for duplicate fields\n",
    "\n",
    "# from pyspark.sql.types import StructType, StructField\n",
    "\n",
    "# def drop_duplicate_fields(schema: StructType) -> StructType:\n",
    "#     seen = set()\n",
    "#     new_fields = []\n",
    "#     for field in schema.fields:\n",
    "#         if field.name not in seen:\n",
    "#             new_fields.append(field)\n",
    "#             seen.add(field.name)\n",
    "#     return StructType(new_fields)"
   ]
  },
  {
   "cell_type": "markdown",
   "metadata": {
    "application/vnd.databricks.v1+cell": {
     "cellMetadata": {
      "byteLimit": 2048000,
      "rowLimit": 10000
     },
     "inputWidgets": {},
     "nuid": "f5ba1121-a978-4294-9619-615dbe74612d",
     "showTitle": false,
     "tableResultSettingsMap": {},
     "title": ""
    }
   },
   "source": [
    "Create table in given schema"
   ]
  },
  {
   "cell_type": "code",
   "execution_count": 0,
   "metadata": {
    "application/vnd.databricks.v1+cell": {
     "cellMetadata": {
      "byteLimit": 2048000,
      "rowLimit": 10000
     },
     "inputWidgets": {},
     "nuid": "c5ce98d0-7b29-48a8-9cec-78f00e804e28",
     "showTitle": false,
     "tableResultSettingsMap": {},
     "title": ""
    }
   },
   "outputs": [],
   "source": [
    "schemas={\n",
    "    \"transactions\": trans_schema,\n",
    "    \"users\": user_schema,\n",
    "    \"cards\": cards_schema\n",
    "}\n"
   ]
  },
  {
   "cell_type": "code",
   "execution_count": 0,
   "metadata": {
    "application/vnd.databricks.v1+cell": {
     "cellMetadata": {
      "byteLimit": 2048000,
      "rowLimit": 10000
     },
     "inputWidgets": {},
     "nuid": "76250a78-902d-4c8e-9cd8-98e0d7fe9ca4",
     "showTitle": false,
     "tableResultSettingsMap": {},
     "title": ""
    }
   },
   "outputs": [],
   "source": [
    "create_tables(spark,schemas,'dbfs')"
   ]
  },
  {
   "cell_type": "code",
   "execution_count": 0,
   "metadata": {
    "application/vnd.databricks.v1+cell": {
     "cellMetadata": {
      "byteLimit": 2048000,
      "rowLimit": 10000
     },
     "inputWidgets": {},
     "nuid": "50316a64-b47e-48db-8583-c977371ff1ba",
     "showTitle": false,
     "tableResultSettingsMap": {},
     "title": ""
    }
   },
   "outputs": [],
   "source": [
    "df_trans=spark.read.csv(f\"{in_path}/transactions_data.csv\",schema=trans_schema,header=True)\n",
    "df_users=spark.read.csv(f\"{in_path}/users_data.csv\",schema=user_schema,header=True)\n",
    "df_cards=spark.read.csv(f\"{in_path}/cards_data.csv\",schema=cards_schema,header=True)"
   ]
  },
  {
   "cell_type": "code",
   "execution_count": 0,
   "metadata": {
    "application/vnd.databricks.v1+cell": {
     "cellMetadata": {
      "byteLimit": 2048000,
      "rowLimit": 10000
     },
     "inputWidgets": {},
     "nuid": "2f239334-c2c0-4dd0-a954-8fa01038de5c",
     "showTitle": false,
     "tableResultSettingsMap": {},
     "title": ""
    }
   },
   "outputs": [],
   "source": [
    "df_cards=df_cards.withColumn('create_date',current_date()).withColumn('create_user',lit('cpprod'))\n",
    "df_trans=df_trans.withColumn('create_date',current_date()).withColumn('create_user',lit('cpprod'))\n",
    "df_users=df_users.withColumn('create_date',current_date()).withColumn('create_user',lit('cpprod'))"
   ]
  },
  {
   "cell_type": "code",
   "execution_count": 0,
   "metadata": {
    "application/vnd.databricks.v1+cell": {
     "cellMetadata": {
      "byteLimit": 2048000,
      "implicitDf": true,
      "rowLimit": 10000
     },
     "inputWidgets": {},
     "nuid": "d2c73d60-fee6-48f7-81e2-9b770b36c489",
     "showTitle": false,
     "tableResultSettingsMap": {},
     "title": ""
    }
   },
   "outputs": [],
   "source": [
    "from delta.tables import DeltaTable\n",
    "delta_users=DeltaTable.forName(spark,f\"dbfs.{client_id}.users\")\n",
    "type(delta_users)"
   ]
  },
  {
   "cell_type": "code",
   "execution_count": 0,
   "metadata": {
    "application/vnd.databricks.v1+cell": {
     "cellMetadata": {
      "byteLimit": 2048000,
      "implicitDf": true,
      "rowLimit": 10000
     },
     "inputWidgets": {},
     "nuid": "32180246-49ea-4d06-b4e1-2adc38fb92e5",
     "showTitle": false,
     "tableResultSettingsMap": {},
     "title": ""
    }
   },
   "outputs": [],
   "source": [
    "df_users.write.format(\"delta\").options(mergeSchema=True).mode('overwrite').saveAsTable(f\"dbfs.{client_id}_users\")"
   ]
  },
  {
   "cell_type": "code",
   "execution_count": 0,
   "metadata": {
    "application/vnd.databricks.v1+cell": {
     "cellMetadata": {
      "byteLimit": 2048000,
      "rowLimit": 10000
     },
     "inputWidgets": {},
     "nuid": "f7c5ed41-6f92-42c2-9fa0-8291c2ac44ce",
     "showTitle": false,
     "tableResultSettingsMap": {},
     "title": ""
    }
   },
   "outputs": [],
   "source": [
    "df_users_new=df_users.filter(col('id') <= 10).withColumn('yearly_income',lit(100000)).withColumn('total_debt',lit(100000)).orderBy(col('id'))"
   ]
  },
  {
   "cell_type": "code",
   "execution_count": 0,
   "metadata": {
    "application/vnd.databricks.v1+cell": {
     "cellMetadata": {
      "byteLimit": 2048000,
      "rowLimit": 10000
     },
     "collapsed": true,
     "inputWidgets": {},
     "nuid": "cb638fab-bf80-44d4-8fc4-83a6314e1378",
     "showTitle": false,
     "tableResultSettingsMap": {},
     "title": ""
    }
   },
   "outputs": [],
   "source": [
    "df_users_new.printSchema()"
   ]
  },
  {
   "cell_type": "code",
   "execution_count": 0,
   "metadata": {
    "application/vnd.databricks.v1+cell": {
     "cellMetadata": {
      "byteLimit": 2048000,
      "implicitDf": true,
      "rowLimit": 10000
     },
     "collapsed": true,
     "inputWidgets": {},
     "nuid": "ebf1c043-54d7-4c54-92c2-c276c85bd072",
     "showTitle": false,
     "tableResultSettingsMap": {
      "0": {
       "dataGridStateBlob": "{\"version\":1,\"tableState\":{\"columnPinning\":{\"left\":[\"#row_number#\"],\"right\":[]},\"columnSizing\":{},\"columnVisibility\":{}},\"settings\":{\"columns\":{}},\"syncTimestamp\":1757946540090}",
       "filterBlob": null,
       "queryPlanFiltersBlob": null,
       "tableResultIndex": 0
      }
     },
     "title": ""
    }
   },
   "outputs": [],
   "source": [
    "%sql describe dbfs.users;"
   ]
  },
  {
   "cell_type": "markdown",
   "metadata": {
    "application/vnd.databricks.v1+cell": {
     "cellMetadata": {
      "byteLimit": 2048000,
      "rowLimit": 10000
     },
     "inputWidgets": {},
     "nuid": "3b632225-5f88-46c4-98a5-b1d297fcbf45",
     "showTitle": false,
     "tableResultSettingsMap": {},
     "title": ""
    }
   },
   "source": [
    "###SCD Type1"
   ]
  },
  {
   "cell_type": "code",
   "execution_count": 0,
   "metadata": {
    "application/vnd.databricks.v1+cell": {
     "cellMetadata": {
      "byteLimit": 2048000,
      "rowLimit": 10000
     },
     "collapsed": true,
     "inputWidgets": {},
     "nuid": "1ddf8d87-74af-4bcd-8a67-67ac58e0770c",
     "showTitle": false,
     "tableResultSettingsMap": {},
     "title": ""
    }
   },
   "outputs": [],
   "source": [
    "delta_users.alias(\"target\").merge(\n",
    "    df_users_new.alias(\"source\"),\n",
    "    \"target.id = source.id\"\n",
    ").whenMatchedUpdate(set={\n",
    "    \"yearly_income\": \"source.yearly_income\",\n",
    "    \"total_debt\": \"source.total_debt\",\n",
    "    \"update_date\": current_timestamp(),\n",
    "    \"update_user\": lit(\"cpprod\")\n",
    "}).whenNotMatchedInsert(values={\n",
    "    \"id\": \"source.id\",\n",
    "    \"current_age\": \"source.current_age\",\n",
    "    \"retirement_age\": \"source.retirement_age\",\n",
    "    \"birth_year\": \"source.birth_year\",\n",
    "    \"birth_month\": \"source.birth_month\",\n",
    "    \"gender\": \"source.gender\",\n",
    "    \"address\": \"source.address\",\n",
    "    \"latitude\": \"source.latitude\",\n",
    "    \"longitude\": \"source.longitude\",\n",
    "    \"per_capita_income\": \"source.per_capita_income\",\n",
    "    \"yearly_income\": \"source.yearly_income\",\n",
    "    \"total_debt\": \"source.total_debt\",\n",
    "    \"credit_score\": \"source.credit_score\",\n",
    "    \"num_credit_cards\": \"source.num_credit_cards\",\n",
    "    \"create_date\": \"source.create_date\",\n",
    "    \"create_user\": \"source.create_user\",\n",
    "    \"update_date\": current_timestamp(),\n",
    "    \"update_user\": lit(\"cpprod\")\n",
    "}).execute()\n"
   ]
  },
  {
   "cell_type": "code",
   "execution_count": 0,
   "metadata": {
    "application/vnd.databricks.v1+cell": {
     "cellMetadata": {
      "byteLimit": 2048000,
      "implicitDf": true,
      "rowLimit": 10000
     },
     "collapsed": true,
     "inputWidgets": {},
     "nuid": "8be1ddda-ca18-499e-acc3-dfca189d337f",
     "showTitle": false,
     "tableResultSettingsMap": {},
     "title": ""
    }
   },
   "outputs": [],
   "source": [
    "%sql describe dbfs.users;"
   ]
  },
  {
   "cell_type": "code",
   "execution_count": 0,
   "metadata": {
    "application/vnd.databricks.v1+cell": {
     "cellMetadata": {
      "byteLimit": 2048000,
      "implicitDf": true,
      "rowLimit": 10000
     },
     "collapsed": true,
     "inputWidgets": {},
     "nuid": "7783ec6d-d91d-4977-a7fe-62d4cf53e989",
     "showTitle": false,
     "tableResultSettingsMap": {},
     "title": ""
    }
   },
   "outputs": [],
   "source": [
    "%sql select * from dbfs.users where id <= 15 order by id;"
   ]
  },
  {
   "cell_type": "code",
   "execution_count": 0,
   "metadata": {
    "application/vnd.databricks.v1+cell": {
     "cellMetadata": {
      "byteLimit": 2048000,
      "rowLimit": 10000
     },
     "collapsed": true,
     "inputWidgets": {},
     "nuid": "be9e26db-4d3d-4117-b19a-fa0ea0e6d8c6",
     "showTitle": false,
     "tableResultSettingsMap": {},
     "title": ""
    }
   },
   "outputs": [],
   "source": [
    "df_source.printSchema()"
   ]
  },
  {
   "cell_type": "code",
   "execution_count": 0,
   "metadata": {
    "application/vnd.databricks.v1+cell": {
     "cellMetadata": {
      "byteLimit": 2048000,
      "rowLimit": 10000
     },
     "inputWidgets": {},
     "nuid": "b20bac2b-aeea-4899-985c-87e58efcea4c",
     "showTitle": false,
     "tableResultSettingsMap": {},
     "title": ""
    }
   },
   "outputs": [],
   "source": [
    "df_source=df_users.filter(col('id') <= 10).withColumn('yearly_income',lit(100000)).withColumn('total_debt',lit(100000)).orderBy(col('id'))"
   ]
  },
  {
   "cell_type": "code",
   "execution_count": 0,
   "metadata": {
    "application/vnd.databricks.v1+cell": {
     "cellMetadata": {
      "byteLimit": 2048000,
      "rowLimit": 10000
     },
     "inputWidgets": {},
     "nuid": "eda57596-5b54-436a-b3df-442be1f75b5a",
     "showTitle": false,
     "tableResultSettingsMap": {},
     "title": ""
    }
   },
   "outputs": [],
   "source": [
    "df_source=df_source.withColumn('total_debt',col('total_debt').cast('double')).withColumn('yearly_income',col('yearly_income').cast('double'))"
   ]
  },
  {
   "cell_type": "code",
   "execution_count": 0,
   "metadata": {
    "application/vnd.databricks.v1+cell": {
     "cellMetadata": {
      "byteLimit": 2048000,
      "rowLimit": 10000
     },
     "inputWidgets": {},
     "nuid": "24aa71e1-eba8-4633-bf78-bfe861511038",
     "showTitle": false,
     "tableResultSettingsMap": {},
     "title": ""
    }
   },
   "outputs": [],
   "source": [
    "df_source2=df_users.filter(col('id').between(11, 20))"
   ]
  },
  {
   "cell_type": "code",
   "execution_count": 0,
   "metadata": {
    "application/vnd.databricks.v1+cell": {
     "cellMetadata": {
      "byteLimit": 2048000,
      "rowLimit": 10000
     },
     "inputWidgets": {},
     "nuid": "23c5c6ed-d031-4fc7-841c-71751a2d03f0",
     "showTitle": false,
     "tableResultSettingsMap": {},
     "title": ""
    }
   },
   "outputs": [],
   "source": [
    "df_source2=df_source2.withColumn('id',when(col('id')==20,2222).otherwise(col('id')))"
   ]
  },
  {
   "cell_type": "code",
   "execution_count": 0,
   "metadata": {
    "application/vnd.databricks.v1+cell": {
     "cellMetadata": {
      "byteLimit": 2048000,
      "rowLimit": 10000
     },
     "inputWidgets": {},
     "nuid": "abc9cd25-797a-4c01-8f0e-90bbebe220a8",
     "showTitle": false,
     "tableResultSettingsMap": {},
     "title": ""
    }
   },
   "outputs": [],
   "source": [
    "df_source=df_source.union(df_source2)"
   ]
  },
  {
   "cell_type": "code",
   "execution_count": 0,
   "metadata": {
    "application/vnd.databricks.v1+cell": {
     "cellMetadata": {
      "byteLimit": 2048000,
      "rowLimit": 10000
     },
     "collapsed": true,
     "inputWidgets": {},
     "nuid": "a5f3de80-52c9-4abb-8e13-c2d709fbc08e",
     "showTitle": false,
     "tableResultSettingsMap": {},
     "title": ""
    }
   },
   "outputs": [],
   "source": [
    "df_source.display()"
   ]
  },
  {
   "cell_type": "code",
   "execution_count": 0,
   "metadata": {
    "application/vnd.databricks.v1+cell": {
     "cellMetadata": {
      "byteLimit": 2048000,
      "implicitDf": true,
      "rowLimit": 10000
     },
     "collapsed": true,
     "inputWidgets": {},
     "nuid": "d065278b-df9e-402e-ba4b-33a3dc0fa0ab",
     "showTitle": false,
     "tableResultSettingsMap": {},
     "title": ""
    }
   },
   "outputs": [],
   "source": [
    "%sql update dbfs.users set active_status = 'A';"
   ]
  },
  {
   "cell_type": "code",
   "execution_count": 0,
   "metadata": {
    "application/vnd.databricks.v1+cell": {
     "cellMetadata": {
      "byteLimit": 2048000,
      "rowLimit": 10000
     },
     "inputWidgets": {},
     "nuid": "671681bd-0a1d-4875-9f3c-40e3f719eb19",
     "showTitle": false,
     "tableResultSettingsMap": {},
     "title": ""
    }
   },
   "outputs": [],
   "source": [
    "targetDelta=DeltaTable.forName(spark,'dbfs.users')\n",
    "df_target=targetDelta.toDF()"
   ]
  },
  {
   "cell_type": "markdown",
   "metadata": {
    "application/vnd.databricks.v1+cell": {
     "cellMetadata": {
      "byteLimit": 2048000,
      "rowLimit": 10000
     },
     "inputWidgets": {},
     "nuid": "f3630340-1277-4c08-b8fd-982623cd42b5",
     "showTitle": false,
     "tableResultSettingsMap": {},
     "title": ""
    }
   },
   "source": [
    "###creating hashed source and target df"
   ]
  },
  {
   "cell_type": "code",
   "execution_count": 0,
   "metadata": {
    "application/vnd.databricks.v1+cell": {
     "cellMetadata": {
      "byteLimit": 2048000,
      "rowLimit": 10000
     },
     "inputWidgets": {},
     "nuid": "796ecf22-5dc5-40d4-a44c-b1cfa0209928",
     "showTitle": false,
     "tableResultSettingsMap": {},
     "title": ""
    }
   },
   "outputs": [],
   "source": [
    "from pyspark.sql.functions import md5, concat_ws, current_timestamp, lit\n",
    "from delta.tables import DeltaTable\n",
    "\n",
    "# Columns to track for changes (all non-key attributes)\n",
    "hash_cols = [\n",
    "    \"current_age\", \"retirement_age\", \"birth_year\", \"birth_month\",\n",
    "    \"gender\", \"address\", \"latitude\", \"longitude\",\n",
    "    \"per_capita_income\", \"yearly_income\", \"total_debt\",\n",
    "    \"credit_score\", \"num_credit_cards\"\n",
    "]\n",
    "\n",
    "# Compute hash_diff in source\n",
    "df_source_hashed = df_source.withColumn(\n",
    "    \"hash_diff\",\n",
    "    md5(concat_ws(\"||\", *[df_source[c].cast(\"string\") for c in hash_cols]))\n",
    ")\n",
    "\n",
    "df_target_hashed = df_target.withColumn(\n",
    "    \"hash_diff\",\n",
    "    md5(concat_ws(\"||\", *[col(c).cast(\"string\") for c in hash_cols]))\n",
    ")"
   ]
  },
  {
   "cell_type": "markdown",
   "metadata": {
    "application/vnd.databricks.v1+cell": {
     "cellMetadata": {
      "byteLimit": 2048000,
      "rowLimit": 10000
     },
     "inputWidgets": {},
     "nuid": "a28a2953-0018-4f40-9961-95c3e641db7f",
     "showTitle": false,
     "tableResultSettingsMap": {},
     "title": ""
    }
   },
   "source": [
    "###Joining source hashed df with target hashed df"
   ]
  },
  {
   "cell_type": "code",
   "execution_count": 0,
   "metadata": {
    "application/vnd.databricks.v1+cell": {
     "cellMetadata": {
      "byteLimit": 2048000,
      "rowLimit": 10000
     },
     "inputWidgets": {},
     "nuid": "050d7eef-cfe1-4fc8-b8a6-19f706725231",
     "showTitle": false,
     "tableResultSettingsMap": {},
     "title": ""
    }
   },
   "outputs": [],
   "source": [
    "joined_df=df_source_hashed.alias(\"s\").join(df_target_hashed.alias('t'),(col(\"s.id\")==col(\"t.id\")) & (col(\"t.active_status\")=='A'),\"leftouter\").select(col(\"s.*\"),col(\"t.hash_diff\").alias(\"t_hash_diff\"))"
   ]
  },
  {
   "cell_type": "code",
   "execution_count": 0,
   "metadata": {
    "application/vnd.databricks.v1+cell": {
     "cellMetadata": {
      "byteLimit": 2048000,
      "rowLimit": 10000
     },
     "collapsed": true,
     "inputWidgets": {},
     "nuid": "2f88cc04-f96f-451e-be44-f1e2698fae2d",
     "showTitle": false,
     "tableResultSettingsMap": {
      "0": {
       "dataGridStateBlob": "{\"version\":1,\"tableState\":{\"columnPinning\":{\"left\":[\"#row_number#\"],\"right\":[]},\"columnSizing\":{},\"columnVisibility\":{}},\"settings\":{\"columns\":{}},\"syncTimestamp\":1758044968866}",
       "filterBlob": null,
       "queryPlanFiltersBlob": null,
       "tableResultIndex": 0
      }
     },
     "title": ""
    }
   },
   "outputs": [],
   "source": [
    "joined_df.orderBy(col(\"id\")).display()"
   ]
  },
  {
   "cell_type": "code",
   "execution_count": 0,
   "metadata": {
    "application/vnd.databricks.v1+cell": {
     "cellMetadata": {
      "byteLimit": 2048000,
      "rowLimit": 10000
     },
     "inputWidgets": {},
     "nuid": "1baaa060-072d-4cdc-85f2-b4fce8e23355",
     "showTitle": false,
     "tableResultSettingsMap": {},
     "title": ""
    }
   },
   "outputs": [],
   "source": [
    "update_df=joined_df.filter((col(\"s.hash_diff\")!=col(\"t_hash_diff\"))).withColumn(\"merge_key\",lit(\"update\"))"
   ]
  },
  {
   "cell_type": "code",
   "execution_count": 0,
   "metadata": {
    "application/vnd.databricks.v1+cell": {
     "cellMetadata": {
      "byteLimit": 2048000,
      "rowLimit": 10000
     },
     "collapsed": true,
     "inputWidgets": {},
     "nuid": "a72258a2-240c-4467-ad3c-b5ac772c87f7",
     "showTitle": false,
     "tableResultSettingsMap": {},
     "title": ""
    }
   },
   "outputs": [],
   "source": [
    "update_df.display()"
   ]
  },
  {
   "cell_type": "code",
   "execution_count": 0,
   "metadata": {
    "application/vnd.databricks.v1+cell": {
     "cellMetadata": {
      "byteLimit": 2048000,
      "rowLimit": 10000
     },
     "inputWidgets": {},
     "nuid": "b8701672-c11a-4bcd-9601-9f3ad2d107e8",
     "showTitle": false,
     "tableResultSettingsMap": {},
     "title": ""
    }
   },
   "outputs": [],
   "source": [
    "insert_df=joined_df.filter((col(\"t_hash_diff\").isNull())).withColumn(\"merge_key\",lit(\"insert\"))"
   ]
  },
  {
   "cell_type": "code",
   "execution_count": 0,
   "metadata": {
    "application/vnd.databricks.v1+cell": {
     "cellMetadata": {
      "byteLimit": 2048000,
      "rowLimit": 10000
     },
     "collapsed": true,
     "inputWidgets": {},
     "nuid": "e4f2c4ec-31ee-4307-a184-cca822d7c92b",
     "showTitle": false,
     "tableResultSettingsMap": {},
     "title": ""
    }
   },
   "outputs": [],
   "source": [
    "insert1_df.display()"
   ]
  },
  {
   "cell_type": "code",
   "execution_count": 0,
   "metadata": {
    "application/vnd.databricks.v1+cell": {
     "cellMetadata": {
      "byteLimit": 2048000,
      "rowLimit": 10000
     },
     "inputWidgets": {},
     "nuid": "dc4cad7c-df87-468b-8a0c-83977315ffda",
     "showTitle": false,
     "tableResultSettingsMap": {},
     "title": ""
    }
   },
   "outputs": [],
   "source": [
    "delete_df=filter_df.filter((col(\"s.hash_diff\")!=col(\"t.hash_diff\"))).withColumn(\"merge_key\",lit(\"delete\"))"
   ]
  },
  {
   "cell_type": "code",
   "execution_count": 0,
   "metadata": {
    "application/vnd.databricks.v1+cell": {
     "cellMetadata": {
      "byteLimit": 2048000,
      "rowLimit": 10000
     },
     "collapsed": true,
     "inputWidgets": {},
     "nuid": "eb53217e-f07b-46c2-8e38-e3fa9f379594",
     "showTitle": false,
     "tableResultSettingsMap": {},
     "title": ""
    }
   },
   "outputs": [],
   "source": [
    "delete_df.display()"
   ]
  },
  {
   "cell_type": "code",
   "execution_count": 0,
   "metadata": {
    "application/vnd.databricks.v1+cell": {
     "cellMetadata": {
      "byteLimit": 2048000,
      "rowLimit": 10000
     },
     "inputWidgets": {},
     "nuid": "da8180b6-a059-45c9-9da3-42be86148a01",
     "showTitle": false,
     "tableResultSettingsMap": {},
     "title": ""
    }
   },
   "outputs": [],
   "source": [
    "scd_df=delete_df.unionAll(insert_df).union(update_df)"
   ]
  },
  {
   "cell_type": "code",
   "execution_count": 0,
   "metadata": {
    "application/vnd.databricks.v1+cell": {
     "cellMetadata": {
      "byteLimit": 2048000,
      "rowLimit": 10000
     },
     "collapsed": true,
     "inputWidgets": {},
     "nuid": "fa0c23b0-ce26-4caa-962d-cc046d170c66",
     "showTitle": false,
     "tableResultSettingsMap": {},
     "title": ""
    }
   },
   "outputs": [],
   "source": [
    "scd_df.orderBy(col(\"id\")).display()"
   ]
  },
  {
   "cell_type": "code",
   "execution_count": 0,
   "metadata": {
    "application/vnd.databricks.v1+cell": {
     "cellMetadata": {
      "byteLimit": 2048000,
      "rowLimit": 10000
     },
     "collapsed": true,
     "inputWidgets": {},
     "nuid": "c5dbe548-dda0-4e71-ae43-583e6ad87226",
     "showTitle": false,
     "tableResultSettingsMap": {},
     "title": ""
    }
   },
   "outputs": [],
   "source": [
    "scd_df.orderBy(\"id\").display()"
   ]
  },
  {
   "cell_type": "markdown",
   "metadata": {
    "application/vnd.databricks.v1+cell": {
     "cellMetadata": {
      "byteLimit": 2048000,
      "rowLimit": 10000
     },
     "inputWidgets": {},
     "nuid": "99202fa9-eead-46e3-b71a-7e8b0ac511a4",
     "showTitle": false,
     "tableResultSettingsMap": {},
     "title": ""
    }
   },
   "source": [
    "###merge command for upsert logic SCD Type2"
   ]
  },
  {
   "cell_type": "code",
   "execution_count": 0,
   "metadata": {
    "application/vnd.databricks.v1+cell": {
     "cellMetadata": {
      "byteLimit": 2048000,
      "rowLimit": 10000
     },
     "inputWidgets": {},
     "nuid": "e7d88e1c-ab1f-4dde-b52a-61a4a3002ac5",
     "showTitle": false,
     "tableResultSettingsMap": {},
     "title": ""
    }
   },
   "outputs": [],
   "source": [
    "targetDelta.alias(\"t\").merge(\n",
    "    scd_df.alias(\"s\"),\n",
    "    (col(\"t.id\") == col(\"s.id\")) & (col(\"t.active_status\") == lit('A')) & (col(\"s.merge_key\")==lit('delete'))\n",
    ").whenMatchedUpdate(\n",
    "    condition=(col(\"s.merge_key\")==lit('delete')),\n",
    "    set={\n",
    "        \"active_status\": lit(\"D\"),\n",
    "        \"end_date\": current_timestamp()\n",
    "    }\n",
    ").whenNotMatchedInsert(\n",
    "    condition=(col(\"s.merge_key\")==lit('update')),\n",
    "    values={\n",
    "    \"id\": \"s.id\",\n",
    "    \"current_age\": \"s.current_age\",\n",
    "    \"retirement_age\": \"s.retirement_age\",\n",
    "    \"birth_year\": \"s.birth_year\",\n",
    "    \"birth_month\": \"s.birth_month\",\n",
    "    \"gender\": \"s.gender\",\n",
    "    \"address\": \"s.address\",\n",
    "    \"latitude\": \"s.latitude\",\n",
    "    \"longitude\": \"s.longitude\",\n",
    "    \"per_capita_income\": \"s.per_capita_income\",\n",
    "    \"yearly_income\": \"s.yearly_income\",\n",
    "    \"total_debt\": \"s.total_debt\",\n",
    "    \"credit_score\": \"s.credit_score\",\n",
    "    \"num_credit_cards\": \"s.num_credit_cards\",\n",
    "    \"create_date\": \"s.create_date\",\n",
    "    \"create_user\": \"s.create_user\",\n",
    "    \"update_date\": current_date(),\n",
    "    \"update_user\": lit('cpprod'),\n",
    "    \"start_date\": current_timestamp(),\n",
    "    \"end_date\": lit(None),\n",
    "    \"active_status\": lit(\"A\")\n",
    "    }\n",
    ").whenNotMatchedInsert(\n",
    "    condition=(col(\"s.merge_key\")==lit('insert')),\n",
    "    values={\n",
    "    \"id\": \"s.id\",\n",
    "    \"current_age\": \"s.current_age\",\n",
    "    \"retirement_age\": \"s.retirement_age\",\n",
    "    \"birth_year\": \"s.birth_year\",\n",
    "    \"birth_month\": \"s.birth_month\",\n",
    "    \"gender\": \"s.gender\",\n",
    "    \"address\": \"s.address\",\n",
    "    \"latitude\": \"s.latitude\",\n",
    "    \"longitude\": \"s.longitude\",\n",
    "    \"per_capita_income\": \"s.per_capita_income\",\n",
    "    \"yearly_income\": \"s.yearly_income\",\n",
    "    \"total_debt\": \"s.total_debt\",\n",
    "    \"credit_score\": \"s.credit_score\",\n",
    "    \"num_credit_cards\": \"s.num_credit_cards\",\n",
    "    \"create_date\": current_timestamp(),\n",
    "    \"create_user\": lit('cpprod'),\n",
    "    \"update_date\": lit(None).cast(\"date\"),\n",
    "    \"update_user\": lit(None),\n",
    "    \"start_date\": current_timestamp(),\n",
    "    \"end_date\": lit(None),\n",
    "    \"active_status\": lit(\"A\")\n",
    "}\n",
    ").execute()\n"
   ]
  },
  {
   "cell_type": "code",
   "execution_count": 0,
   "metadata": {
    "application/vnd.databricks.v1+cell": {
     "cellMetadata": {
      "byteLimit": 2048000,
      "implicitDf": true,
      "rowLimit": 10000
     },
     "inputWidgets": {},
     "nuid": "744ca365-1e2b-456e-b900-06db578abf81",
     "showTitle": false,
     "tableResultSettingsMap": {
      "0": {
       "dataGridStateBlob": "{\"version\":1,\"tableState\":{\"columnPinning\":{\"left\":[\"#row_number#\"],\"right\":[]},\"columnSizing\":{},\"columnVisibility\":{}},\"settings\":{\"columns\":{}},\"syncTimestamp\":1757954385344}",
       "filterBlob": null,
       "queryPlanFiltersBlob": null,
       "tableResultIndex": 0
      }
     },
     "title": ""
    }
   },
   "outputs": [],
   "source": [
    "%sql select * from dbfs.users where id <=21 or id=2222 order by id;"
   ]
  },
  {
   "cell_type": "code",
   "execution_count": 0,
   "metadata": {
    "application/vnd.databricks.v1+cell": {
     "cellMetadata": {
      "byteLimit": 2048000,
      "rowLimit": 10000
     },
     "collapsed": true,
     "inputWidgets": {},
     "nuid": "0ade1cf9-50ef-4e39-910a-b04f80b88844",
     "showTitle": false,
     "tableResultSettingsMap": {},
     "title": ""
    }
   },
   "outputs": [],
   "source": [
    "from pyspark.sql.functions import col, lit, current_timestamp, when\n",
    "\n",
    "# Add derived columns in source for insert logic\n",
    "source_prepared = joined_df.withColumn(\n",
    "    \"ins_create_date\",\n",
    "    when(col(\"t.id\").isNull(), current_timestamp()).otherwise(col(\"s.create_date\"))\n",
    ").withColumn(\n",
    "    \"ins_create_user\",\n",
    "    when(col(\"t.id\").isNull(), lit(\"cpprod\")).otherwise(col(\"s.create_user\"))\n",
    ").withColumn(\n",
    "    \"ins_update_date\",\n",
    "    when(col(\"t.id\").isNotNull(), current_timestamp()).otherwise(lit(None).cast(\"timestamp\"))\n",
    ").withColumn(\n",
    "    \"ins_update_user\",\n",
    "    when(col(\"t.id\").isNotNull(), lit(\"etl_user\")).otherwise(lit(None))\n",
    ").withColumn(\n",
    "    \"ins_start_date\",\n",
    "    when(col(\"t.id\").isNotNull(), current_timestamp()).otherwise(lit(None).cast(\"timestamp\"))\n",
    ").withColumn(\n",
    "    \"ins_end_date\",\n",
    "    lit(None).cast(\"timestamp\")\n",
    ").withColumn(\n",
    "    \"ins_active_status\", lit(\"A\"))\n"
   ]
  },
  {
   "cell_type": "code",
   "execution_count": 0,
   "metadata": {
    "application/vnd.databricks.v1+cell": {
     "cellMetadata": {
      "byteLimit": 2048000,
      "rowLimit": 10000
     },
     "inputWidgets": {},
     "nuid": "bfe73751-9d74-4b86-b9a3-3c7b95723f51",
     "showTitle": false,
     "tableResultSettingsMap": {},
     "title": ""
    }
   },
   "outputs": [],
   "source": [
    "source_prepared.show()"
   ]
  },
  {
   "cell_type": "code",
   "execution_count": 0,
   "metadata": {
    "application/vnd.databricks.v1+cell": {
     "cellMetadata": {
      "byteLimit": 2048000,
      "rowLimit": 10000
     },
     "inputWidgets": {},
     "nuid": "e27d2e5d-de24-4dd1-93dd-8c4caa369f3e",
     "showTitle": false,
     "tableResultSettingsMap": {},
     "title": ""
    }
   },
   "outputs": [],
   "source": [
    "from pyspark.sql.functions import col, lit, current_timestamp\n",
    "\n",
    "targetDelta.alias(\"t\").merge(\n",
    "    source_prepared.alias(\"s\"),\n",
    "    (col(\"id\") == col(\"id\")) & (col(\"active_status\") == lit(\"A\"))   # target vs source handled internally\n",
    ").whenMatchedUpdate(\n",
    "    condition=col(\"merge_key\").isNull(),\n",
    "    set={\n",
    "        \"active_status\": lit(\"D\"),\n",
    "        \"end_date\": current_timestamp()\n",
    "    }\n",
    ").whenNotMatchedInsert(\n",
    "    condition=col(\"merge_key\").isNull(),\n",
    "    values={\n",
    "        \"id\": col(\"id\"),\n",
    "        \"current_age\": col(\"current_age\"),\n",
    "        \"retirement_age\": col(\"retirement_age\"),\n",
    "        \"birth_year\": col(\"birth_year\"),\n",
    "        \"birth_month\": col(\"birth_month\"),\n",
    "        \"gender\": col(\"gender\"),\n",
    "        \"address\": col(\"address\"),\n",
    "        \"latitude\": col(\"latitude\"),\n",
    "        \"longitude\": col(\"longitude\"),\n",
    "        \"per_capita_income\": col(\"per_capita_income\"),\n",
    "        \"yearly_income\": col(\"yearly_income\"),\n",
    "        \"total_debt\": col(\"total_debt\"),\n",
    "        \"credit_score\": col(\"credit_score\"),\n",
    "        \"num_credit_cards\": col(\"num_credit_cards\"),\n",
    "        \"create_date\": col(\"ins_create_date\"),\n",
    "        \"create_user\": col(\"ins_create_user\"),\n",
    "        \"update_date\": col(\"ins_update_date\"),\n",
    "        \"update_user\": col(\"ins_update_user\"),\n",
    "        \"start_date\": col(\"ins_start_date\"),\n",
    "        \"end_date\": col(\"ins_end_date\"),\n",
    "        \"active_status\": col(\"ins_active_status\")\n",
    "    }\n",
    ").execute()\n"
   ]
  }
 ],
 "metadata": {
  "application/vnd.databricks.v1+notebook": {
   "computePreferences": null,
   "dashboards": [],
   "environmentMetadata": {
    "base_environment": "",
    "environment_version": "3"
   },
   "inputWidgetPreferences": null,
   "language": "python",
   "notebookMetadata": {
    "mostRecentlyExecutedCommandWithImplicitDF": {
     "commandId": 8419429435259859,
     "dataframes": [
      "_sqldf"
     ]
    },
    "pythonIndentUnit": 4
   },
   "notebookName": "data_project_pipeline",
   "widgets": {
    "client_id": {
     "currentValue": "se2",
     "nuid": "d9d9b236-14d0-42c6-ae05-946ba00ebd86",
     "typedWidgetInfo": {
      "autoCreated": false,
      "defaultValue": "",
      "label": null,
      "name": "client_id",
      "options": {
       "widgetDisplayType": "Text",
       "validationRegex": null
      },
      "parameterDataType": "String"
     },
     "widgetInfo": {
      "widgetType": "text",
      "defaultValue": "",
      "label": null,
      "name": "client_id",
      "options": {
       "widgetType": "text",
       "autoCreated": null,
       "validationRegex": null
      }
     }
    },
    "env": {
     "currentValue": "dev",
     "nuid": "ed35eb03-8deb-4dc2-89c6-e7cdc087a138",
     "typedWidgetInfo": {
      "autoCreated": false,
      "defaultValue": "",
      "label": null,
      "name": "env",
      "options": {
       "widgetDisplayType": "Text",
       "validationRegex": null
      },
      "parameterDataType": "String"
     },
     "widgetInfo": {
      "widgetType": "text",
      "defaultValue": "",
      "label": null,
      "name": "env",
      "options": {
       "widgetType": "text",
       "autoCreated": null,
       "validationRegex": null
      }
     }
    },
    "tax_year": {
     "currentValue": "2024",
     "nuid": "eada5cd8-700b-48e4-9ffa-4879b1568965",
     "typedWidgetInfo": {
      "autoCreated": false,
      "defaultValue": "",
      "label": null,
      "name": "tax_year",
      "options": {
       "widgetDisplayType": "Text",
       "validationRegex": null
      },
      "parameterDataType": "String"
     },
     "widgetInfo": {
      "widgetType": "text",
      "defaultValue": "",
      "label": null,
      "name": "tax_year",
      "options": {
       "widgetType": "text",
       "autoCreated": null,
       "validationRegex": null
      }
     }
    }
   }
  },
  "language_info": {
   "name": "python"
  }
 },
 "nbformat": 4,
 "nbformat_minor": 0
}
