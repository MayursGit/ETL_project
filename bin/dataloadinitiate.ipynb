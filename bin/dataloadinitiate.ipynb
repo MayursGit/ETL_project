{
 "cells": [
  {
   "cell_type": "code",
   "execution_count": 0,
   "metadata": {
    "application/vnd.databricks.v1+cell": {
     "cellMetadata": {
      "byteLimit": 2048000,
      "rowLimit": 10000
     },
     "inputWidgets": {},
     "nuid": "9c386606-0592-480b-87bb-392507e70b5c",
     "showTitle": false,
     "tableResultSettingsMap": {},
     "title": ""
    }
   },
   "outputs": [],
   "source": [
    "from pyspark.sql.functions import *\n",
    "from pyspark.sql.types import *\n",
    "dbutils.widgets.text(\"env\",\"\")\n",
    "dbutils.widgets.text(\"client_id\",\"\")\n",
    "dbutils.widgets.text(\"tax_year\",\"\")\n",
    "env=dbutils.widgets.get(\"env\")\n",
    "tax_year=dbutils.widgets.get(\"tax_year\")\n",
    "client_id=dbutils.widgets.get(\"client_id\")"
   ]
  },
  {
   "cell_type": "code",
   "execution_count": 0,
   "metadata": {
    "application/vnd.databricks.v1+cell": {
     "cellMetadata": {
      "byteLimit": 2048000,
      "rowLimit": 10000
     },
     "inputWidgets": {},
     "nuid": "bfd0bb49-7a45-4481-8f48-2634f5b53c62",
     "showTitle": false,
     "tableResultSettingsMap": {},
     "title": ""
    }
   },
   "outputs": [],
   "source": [
    "import sys\n",
    "sys.path.append(\"/Workspace/Users/mayur10594@gmail.com/ETL_project\")"
   ]
  },
  {
   "cell_type": "code",
   "execution_count": 0,
   "metadata": {
    "application/vnd.databricks.v1+cell": {
     "cellMetadata": {
      "byteLimit": 2048000,
      "rowLimit": 10000
     },
     "inputWidgets": {},
     "nuid": "5b81a14e-18ef-440b-9a2e-b690c51aaf65",
     "showTitle": false,
     "tableResultSettingsMap": {},
     "title": ""
    }
   },
   "outputs": [],
   "source": [
    "from config.utils import get_logger\n",
    "logger = get_logger(\"dataloadinitiate\")"
   ]
  },
  {
   "cell_type": "code",
   "execution_count": 0,
   "metadata": {
    "application/vnd.databricks.v1+cell": {
     "cellMetadata": {
      "byteLimit": 2048000,
      "rowLimit": 10000
     },
     "inputWidgets": {},
     "nuid": "d25f7b83-59b3-4a91-ba0d-fe3f78f4b805",
     "showTitle": false,
     "tableResultSettingsMap": {},
     "title": ""
    }
   },
   "outputs": [],
   "source": [
    "import json, yaml, os\n",
    "from config.utils import load_config,create_tables\n",
    "from schemas import user_schema,trans_schema,cards_schema"
   ]
  },
  {
   "cell_type": "code",
   "execution_count": 0,
   "metadata": {
    "application/vnd.databricks.v1+cell": {
     "cellMetadata": {
      "byteLimit": 2048000,
      "rowLimit": 10000
     },
     "inputWidgets": {},
     "nuid": "49611019-2de1-410a-9f94-6fb86a018948",
     "showTitle": false,
     "tableResultSettingsMap": {},
     "title": ""
    }
   },
   "outputs": [],
   "source": [
    "path=\"/Workspace/Users/mayur10594@gmail.com/ETL_project/config/etl_main.yaml\"\n",
    "env_config,tables_config=load_config(path,env)"
   ]
  },
  {
   "cell_type": "code",
   "execution_count": 0,
   "metadata": {
    "application/vnd.databricks.v1+cell": {
     "cellMetadata": {
      "byteLimit": 2048000,
      "rowLimit": 10000
     },
     "inputWidgets": {},
     "nuid": "b8bbdad5-b602-4e6f-8d30-f76f7e0fe96d",
     "showTitle": false,
     "tableResultSettingsMap": {},
     "title": ""
    }
   },
   "outputs": [],
   "source": [
    "in_path=env_config['incoming_path']\n",
    "logger.info(f\"Loading data from {in_path}\")\n",
    "logger.info(f\"env is set to {env}\")\n",
    "logger.info(f\"tax_year is set to {tax_year}\")\n",
    "logger.info(f\"client_id is set to {client_id}\")"
   ]
  },
  {
   "cell_type": "code",
   "execution_count": 0,
   "metadata": {
    "application/vnd.databricks.v1+cell": {
     "cellMetadata": {
      "byteLimit": 2048000,
      "rowLimit": 10000
     },
     "inputWidgets": {},
     "nuid": "f86eb4a0-207c-4e82-b6be-76348c19302d",
     "showTitle": false,
     "tableResultSettingsMap": {},
     "title": ""
    }
   },
   "outputs": [],
   "source": [
    "schemas={\n",
    "    \"transactions\": trans_schema,\n",
    "    \"users\": user_schema,\n",
    "    \"cards\": cards_schema\n",
    "}"
   ]
  },
  {
   "cell_type": "code",
   "execution_count": 0,
   "metadata": {
    "application/vnd.databricks.v1+cell": {
     "cellMetadata": {
      "byteLimit": 2048000,
      "rowLimit": 10000
     },
     "inputWidgets": {},
     "nuid": "eaaab879-7e33-4540-950c-e71682f07f1c",
     "showTitle": false,
     "tableResultSettingsMap": {},
     "title": ""
    }
   },
   "outputs": [],
   "source": [
    "create_tables(spark,schemas,'dbfs')"
   ]
  },
  {
   "cell_type": "code",
   "execution_count": 0,
   "metadata": {
    "application/vnd.databricks.v1+cell": {
     "cellMetadata": {
      "byteLimit": 2048000,
      "rowLimit": 10000
     },
     "inputWidgets": {},
     "nuid": "5ecb18a8-b3c5-41c2-aec4-e4bb9bc3be0d",
     "showTitle": false,
     "tableResultSettingsMap": {},
     "title": ""
    }
   },
   "outputs": [],
   "source": [
    "df_trans=spark.read.csv(f\"{in_path}/transactions_data.csv\",schema=trans_schema,header=True)\n",
    "df_users=spark.read.csv(f\"{in_path}/users_data.csv\",schema=user_schema,header=True)\n",
    "df_cards=spark.read.csv(f\"{in_path}/cards_data.csv\",schema=cards_schema,header=True)"
   ]
  },
  {
   "cell_type": "code",
   "execution_count": 0,
   "metadata": {
    "application/vnd.databricks.v1+cell": {
     "cellMetadata": {},
     "inputWidgets": {},
     "nuid": "51d18938-105d-4819-afcf-5cd47a1a1938",
     "showTitle": false,
     "tableResultSettingsMap": {},
     "title": ""
    }
   },
   "outputs": [],
   "source": [
    "df_cards=df_cards.withColumn('create_date',current_date()).withColumn('create_user',lit('cpprod'))\n",
    "df_trans=df_trans.withColumn('create_date',current_date()).withColumn('create_user',lit('cpprod'))\n",
    "df_users=df_users.withColumn('create_date',current_date()).withColumn('create_user',lit('cpprod'))"
   ]
  },
  {
   "cell_type": "code",
   "execution_count": 0,
   "metadata": {
    "application/vnd.databricks.v1+cell": {
     "cellMetadata": {
      "byteLimit": 2048000,
      "rowLimit": 10000
     },
     "inputWidgets": {},
     "nuid": "a8a595c3-f1a6-4537-b9f2-b8effcdf29cc",
     "showTitle": false,
     "tableResultSettingsMap": {},
     "title": ""
    }
   },
   "outputs": [],
   "source": [
    "df_users.write.format(\"delta\").options(mergeSchema=True).mode('overwrite').saveAsTable(f\"dbfs.{client_id}_users\")\n",
    "df_cards.write.format(\"delta\").options(mergeSchema=True).mode('overwrite').saveAsTable(f\"dbfs.{client_id}_cards\")\n",
    "df_trans.write.format(\"delta\").options(mergeSchema=True).mode('overwrite').saveAsTable(f\"dbfs.{client_id}_{tax_year}_transactions\")\n"
   ]
  },
  {
   "cell_type": "code",
   "execution_count": 0,
   "metadata": {
    "application/vnd.databricks.v1+cell": {
     "cellMetadata": {},
     "inputWidgets": {},
     "nuid": "6a28e44c-4193-4353-9364-3c4e7d162bbc",
     "showTitle": false,
     "tableResultSettingsMap": {},
     "title": ""
    }
   },
   "outputs": [],
   "source": [
    "users_insert_count=df_users.count()\n",
    "trans_insert_count=df_trans.count()\n",
    "cards_insert_count=df_cards.count()\n"
   ]
  },
  {
   "cell_type": "code",
   "execution_count": 0,
   "metadata": {
    "application/vnd.databricks.v1+cell": {
     "cellMetadata": {},
     "inputWidgets": {},
     "nuid": "f546b702-17d1-44fd-8195-fc520976bba9",
     "showTitle": false,
     "tableResultSettingsMap": {},
     "title": ""
    }
   },
   "outputs": [],
   "source": [
    "dbutils.notebook.exit(json.dumps({\n",
    "    \"users_insert_count\": users_insert_count,\n",
    "    \"trans_insert_count\": trans_insert_count,\n",
    "    \"cards_insert_count\": cards_insert_count\n",
    "}))"
   ]
  },
  {
   "cell_type": "code",
   "execution_count": 0,
   "metadata": {
    "application/vnd.databricks.v1+cell": {
     "cellMetadata": {},
     "inputWidgets": {},
     "nuid": "bcf534ee-705a-4817-a11e-cf22540e26ba",
     "showTitle": false,
     "tableResultSettingsMap": {},
     "title": ""
    }
   },
   "outputs": [],
   "source": [
    "\n",
    "logger.info(f'''\n",
    "    \"users_insert_count\": users_insert_count,\n",
    "    \"trans_insert_count\": trans_insert_count,\n",
    "    \"cards_insert_count\": cards_insert_count\"\n",
    "    ''')\n",
    "logger.info(f\"exiting the dataloadinitiate notebook\")"
   ]
  }
 ],
 "metadata": {
  "application/vnd.databricks.v1+notebook": {
   "computePreferences": null,
   "dashboards": [],
   "environmentMetadata": {
    "base_environment": "",
    "environment_version": "3"
   },
   "inputWidgetPreferences": null,
   "language": "python",
   "notebookMetadata": {
    "pythonIndentUnit": 4
   },
   "notebookName": "dataloadinitiate",
   "widgets": {
    "client_id": {
     "currentValue": "se2",
     "nuid": "9e3abdda-3c41-4199-9f6b-23176cc1f304",
     "typedWidgetInfo": {
      "autoCreated": false,
      "defaultValue": "",
      "label": null,
      "name": "client_id",
      "options": {
       "widgetDisplayType": "Text",
       "validationRegex": null
      },
      "parameterDataType": "String"
     },
     "widgetInfo": {
      "widgetType": "text",
      "defaultValue": "",
      "label": null,
      "name": "client_id",
      "options": {
       "widgetType": "text",
       "autoCreated": null,
       "validationRegex": null
      }
     }
    },
    "env": {
     "currentValue": "dev",
     "nuid": "c3b118aa-d524-44e2-bdf1-df730edb4640",
     "typedWidgetInfo": {
      "autoCreated": false,
      "defaultValue": "",
      "label": null,
      "name": "env",
      "options": {
       "widgetDisplayType": "Text",
       "validationRegex": null
      },
      "parameterDataType": "String"
     },
     "widgetInfo": {
      "widgetType": "text",
      "defaultValue": "",
      "label": null,
      "name": "env",
      "options": {
       "widgetType": "text",
       "autoCreated": null,
       "validationRegex": null
      }
     }
    },
    "tax_year": {
     "currentValue": "2025",
     "nuid": "fe20cf85-af43-4828-94a7-553404e09496",
     "typedWidgetInfo": {
      "autoCreated": false,
      "defaultValue": "",
      "label": null,
      "name": "tax_year",
      "options": {
       "widgetDisplayType": "Text",
       "validationRegex": null
      },
      "parameterDataType": "String"
     },
     "widgetInfo": {
      "widgetType": "text",
      "defaultValue": "",
      "label": null,
      "name": "tax_year",
      "options": {
       "widgetType": "text",
       "autoCreated": null,
       "validationRegex": null
      }
     }
    }
   }
  },
  "language_info": {
   "name": "python"
  }
 },
 "nbformat": 4,
 "nbformat_minor": 0
}
