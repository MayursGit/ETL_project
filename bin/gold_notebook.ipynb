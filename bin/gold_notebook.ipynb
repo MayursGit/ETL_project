{
 "cells": [
  {
   "cell_type": "code",
   "execution_count": 0,
   "metadata": {
    "application/vnd.databricks.v1+cell": {
     "cellMetadata": {
      "byteLimit": 2048000,
      "rowLimit": 10000
     },
     "inputWidgets": {},
     "nuid": "82346264-9f43-4014-b996-ad9bbfe493f2",
     "showTitle": false,
     "tableResultSettingsMap": {},
     "title": ""
    }
   },
   "outputs": [],
   "source": [
    "from pyspark.sql.functions import *\n",
    "from pyspark.sql.types import *"
   ]
  },
  {
   "cell_type": "code",
   "execution_count": 0,
   "metadata": {
    "application/vnd.databricks.v1+cell": {
     "cellMetadata": {
      "byteLimit": 2048000,
      "rowLimit": 10000
     },
     "inputWidgets": {},
     "nuid": "ac26cd64-97b3-4a36-9660-634177380f06",
     "showTitle": false,
     "tableResultSettingsMap": {},
     "title": ""
    }
   },
   "outputs": [],
   "source": [
    "import sys\n",
    "sys.path.append(\"/Workspace/Users/mayur10594@gmail.com/ETL_project\")\n",
    "from config.utils import get_logger\n",
    "logger = get_logger(\"dataloadinitiate\")"
   ]
  },
  {
   "cell_type": "code",
   "execution_count": 0,
   "metadata": {
    "application/vnd.databricks.v1+cell": {
     "cellMetadata": {
      "byteLimit": 2048000,
      "rowLimit": 10000
     },
     "inputWidgets": {},
     "nuid": "ac5eba8c-c633-4637-9826-9b13d0ff41e0",
     "showTitle": false,
     "tableResultSettingsMap": {},
     "title": ""
    }
   },
   "outputs": [],
   "source": [
    "import json, yaml, os\n",
    "from config.utils import load_config,create_tables,load_all_schemas"
   ]
  },
  {
   "cell_type": "code",
   "execution_count": 0,
   "metadata": {
    "application/vnd.databricks.v1+cell": {
     "cellMetadata": {
      "byteLimit": 2048000,
      "rowLimit": 10000
     },
     "inputWidgets": {},
     "nuid": "dbb8abac-7b25-4808-8b02-eadf30a07f99",
     "showTitle": false,
     "tableResultSettingsMap": {},
     "title": ""
    }
   },
   "outputs": [],
   "source": [
    "dbutils.widgets.text(\"fileList\", \"\")\n",
    "dbutils.widgets.text(\"taxYear\", \"\")\n",
    "dbutils.widgets.text(\"clientId\", \"\")\n",
    "dbutils.widgets.text(\"env\",\"\")\n",
    "dbutils.widgets.text(\"bronze_path\", \"\")\n",
    "dbutils.widgets.text(\"maps\",\"\")\n",
    "fileList = dbutils.widgets.get(\"fileList\")\n",
    "taxYear = dbutils.widgets.get(\"taxYear\")\n",
    "clientId = dbutils.widgets.get(\"clientId\")\n",
    "env = dbutils.widgets.get(\"env\")\n",
    "bronze_path = dbutils.widgets.get(\"bronze_path\")\n",
    "maps=json.loads(dbutils.widgets.get(\"maps\"))\n",
    "logger.info(f\"fileList: {fileList}, taxYear: {taxYear}, clientId: {clientId}, env: {env}, bronze_path: {bronze_path}, maps to be loaded: {maps}\")"
   ]
  },
  {
   "cell_type": "code",
   "execution_count": 0,
   "metadata": {
    "application/vnd.databricks.v1+cell": {
     "cellMetadata": {
      "byteLimit": 2048000,
      "rowLimit": 10000
     },
     "inputWidgets": {},
     "nuid": "4b144606-c8ee-4135-b9c3-fb6f854fedb2",
     "showTitle": false,
     "tableResultSettingsMap": {},
     "title": ""
    }
   },
   "outputs": [],
   "source": [
    "# Dictionary to hold DataFrames\n",
    "dfs = {}\n",
    "\n",
    "for map_name in maps:\n",
    "    table=f\"cp_database.{clientId}_{map_name}\"\n",
    "    df = spark.read.table(table)\n",
    "    dfs[map_name] = df\n",
    "    #print(f\"df_{map_name} is created and stored in dfs['{map_name}']\")\n",
    "    logger.info(f\"df_{map_name} is created and stored in dfs['{map_name}']\")"
   ]
  },
  {
   "cell_type": "code",
   "execution_count": 0,
   "metadata": {
    "application/vnd.databricks.v1+cell": {
     "cellMetadata": {
      "byteLimit": 2048000,
      "rowLimit": 10000
     },
     "inputWidgets": {},
     "nuid": "8dd7180e-6520-4e24-9515-269eed92c4ed",
     "showTitle": false,
     "tableResultSettingsMap": {},
     "title": ""
    }
   },
   "outputs": [],
   "source": [
    "dfs['transactions']=dfs['transactions'].withColumn('date',to_date('date','dd-MM-yyyy HH:mm')).withColumn('amount',regexp_replace('amount','[$]','').cast('decimal(10,2)'))"
   ]
  },
  {
   "cell_type": "code",
   "execution_count": 0,
   "metadata": {
    "application/vnd.databricks.v1+cell": {
     "cellMetadata": {
      "byteLimit": 2048000,
      "rowLimit": 10000
     },
     "inputWidgets": {},
     "nuid": "2b8d0db5-49d6-49bb-9b93-de26d30bf5f8",
     "showTitle": false,
     "tableResultSettingsMap": {
      "0": {
       "dataGridStateBlob": "{\"version\":1,\"tableState\":{\"columnPinning\":{\"left\":[\"#row_number#\"],\"right\":[]},\"columnSizing\":{},\"columnVisibility\":{}},\"settings\":{\"columns\":{}},\"syncTimestamp\":1759431061697}",
       "filterBlob": null,
       "queryPlanFiltersBlob": null,
       "tableResultIndex": 0
      }
     },
     "title": ""
    }
   },
   "outputs": [],
   "source": [
    "config_path='/Workspace/Users/mayur10594@gmail.com/ETL_project/config/gold_config.yaml'\n",
    "with open(config_path, \"r\") as f:\n",
    "    sqls_cfg = yaml.safe_load(f)"
   ]
  },
  {
   "cell_type": "code",
   "execution_count": 0,
   "metadata": {
    "application/vnd.databricks.v1+cell": {
     "cellMetadata": {
      "byteLimit": 2048000,
      "rowLimit": 10000
     },
     "inputWidgets": {},
     "nuid": "9d02df40-43aa-4af7-bdd3-01a5a185ce77",
     "showTitle": false,
     "tableResultSettingsMap": {},
     "title": ""
    }
   },
   "outputs": [],
   "source": [
    "sqls=sqls_cfg['dev']['cards']['sqls']"
   ]
  },
  {
   "cell_type": "code",
   "execution_count": 0,
   "metadata": {
    "application/vnd.databricks.v1+cell": {
     "cellMetadata": {
      "byteLimit": 2048000,
      "rowLimit": 10000
     },
     "inputWidgets": {},
     "nuid": "1edaf8de-73ca-4946-9f44-1437510265d7",
     "showTitle": false,
     "tableResultSettingsMap": {},
     "title": ""
    }
   },
   "outputs": [],
   "source": [
    "def load_sqls(path,file):\n",
    "    file_path=f\"{path}/{file}\"\n",
    "    with open(file_path, \"r\") as f:\n",
    "        return f.read()\n",
    "        "
   ]
  },
  {
   "cell_type": "code",
   "execution_count": 0,
   "metadata": {
    "application/vnd.databricks.v1+cell": {
     "cellMetadata": {
      "byteLimit": 2048000,
      "rowLimit": 10000
     },
     "inputWidgets": {},
     "nuid": "b608fc15-36ac-4eab-983e-5215d0358268",
     "showTitle": false,
     "tableResultSettingsMap": {},
     "title": ""
    }
   },
   "outputs": [],
   "source": [
    "path = '/Workspace/Users/mayur10594@gmail.com/ETL_project/gold_transformations'\n",
    "extracts = []\n",
    "\n",
    "for map in maps:\n",
    "    # Register input DF as temp view\n",
    "    dfs[map].createOrReplaceTempView(map)\n",
    "    print(f\"✅ Temp view created for {map}\")\n",
    "    print(f\"▶️ Started extract for {map}\")\n",
    "\n",
    "    sqls = sqls_cfg[env][map]['sqls']\n",
    "\n",
    "    for sql_file in sqls:\n",
    "        df_name = f\"{map}_{sql_file.split('.')[0]}\"   # string name\n",
    "        extracts.append(df_name)\n",
    "\n",
    "        print(f\"▶️ Creating {df_name} dataframe\")\n",
    "        print(f\"▶️ Running SQL for {map}: {sql_file}\")\n",
    "\n",
    "        # Load the SQL text\n",
    "        sql_query = load_sqls(path, sql_file)\n",
    "        print(sql_query)\n",
    "\n",
    "        # Run SQL and store DF in dictionary\n",
    "        dfs[df_name] = spark.sql(sql_query)\n",
    "\n",
    "print(\"✅ Extracts created:\", extracts)\n"
   ]
  },
  {
   "cell_type": "code",
   "execution_count": 0,
   "metadata": {
    "application/vnd.databricks.v1+cell": {
     "cellMetadata": {
      "byteLimit": 2048000,
      "rowLimit": 10000
     },
     "collapsed": true,
     "inputWidgets": {},
     "nuid": "cda085d4-de74-4008-be6b-b9a58d3b0d9a",
     "showTitle": false,
     "tableResultSettingsMap": {},
     "title": ""
    }
   },
   "outputs": [],
   "source": [
    "dfs['cards_debit_card_extract'].display()"
   ]
  }
 ],
 "metadata": {
  "application/vnd.databricks.v1+notebook": {
   "computePreferences": null,
   "dashboards": [],
   "environmentMetadata": {
    "base_environment": "",
    "environment_version": "3"
   },
   "inputWidgetPreferences": null,
   "language": "python",
   "notebookMetadata": {
    "pythonIndentUnit": 4
   },
   "notebookName": "gold_notebook",
   "widgets": {
    "bronze_path": {
     "currentValue": "",
     "nuid": "88e9e0a0-9bf4-4461-bb97-6288288f66a8",
     "typedWidgetInfo": {
      "autoCreated": false,
      "defaultValue": "",
      "label": null,
      "name": "bronze_path",
      "options": {
       "widgetDisplayType": "Text",
       "validationRegex": null
      },
      "parameterDataType": "String"
     },
     "widgetInfo": {
      "widgetType": "text",
      "defaultValue": "",
      "label": null,
      "name": "bronze_path",
      "options": {
       "widgetType": "text",
       "autoCreated": null,
       "validationRegex": null
      }
     }
    },
    "clientId": {
     "currentValue": "se2",
     "nuid": "8ea4d73b-46a9-41eb-b0ae-d9c4dc77c45a",
     "typedWidgetInfo": {
      "autoCreated": false,
      "defaultValue": "",
      "label": null,
      "name": "clientId",
      "options": {
       "widgetDisplayType": "Text",
       "validationRegex": null
      },
      "parameterDataType": "String"
     },
     "widgetInfo": {
      "widgetType": "text",
      "defaultValue": "",
      "label": null,
      "name": "clientId",
      "options": {
       "widgetType": "text",
       "autoCreated": null,
       "validationRegex": null
      }
     }
    },
    "env": {
     "currentValue": "dev",
     "nuid": "f430fc7d-3e70-4be9-ae58-a245a73c4565",
     "typedWidgetInfo": {
      "autoCreated": false,
      "defaultValue": "",
      "label": null,
      "name": "env",
      "options": {
       "widgetDisplayType": "Text",
       "validationRegex": null
      },
      "parameterDataType": "String"
     },
     "widgetInfo": {
      "widgetType": "text",
      "defaultValue": "",
      "label": null,
      "name": "env",
      "options": {
       "widgetType": "text",
       "autoCreated": null,
       "validationRegex": null
      }
     }
    },
    "fileList": {
     "currentValue": "",
     "nuid": "30b7a65a-e70f-4b89-93f3-923fe63af9a2",
     "typedWidgetInfo": {
      "autoCreated": false,
      "defaultValue": "",
      "label": null,
      "name": "fileList",
      "options": {
       "widgetDisplayType": "Text",
       "validationRegex": null
      },
      "parameterDataType": "String"
     },
     "widgetInfo": {
      "widgetType": "text",
      "defaultValue": "",
      "label": null,
      "name": "fileList",
      "options": {
       "widgetType": "text",
       "autoCreated": null,
       "validationRegex": null
      }
     }
    },
    "maps": {
     "currentValue": " [\"cards\", \"users\", \"transactions\"]",
     "nuid": "2bb9f2ce-c338-4b2e-ad71-c818c5d3b3ad",
     "typedWidgetInfo": {
      "autoCreated": false,
      "defaultValue": "",
      "label": null,
      "name": "maps",
      "options": {
       "widgetDisplayType": "Text",
       "validationRegex": null
      },
      "parameterDataType": "String"
     },
     "widgetInfo": {
      "widgetType": "text",
      "defaultValue": "",
      "label": null,
      "name": "maps",
      "options": {
       "widgetType": "text",
       "autoCreated": null,
       "validationRegex": null
      }
     }
    },
    "taxYear": {
     "currentValue": "2024",
     "nuid": "e7e6c8e4-eb5e-43a4-8822-3e2d51bda665",
     "typedWidgetInfo": {
      "autoCreated": false,
      "defaultValue": "",
      "label": null,
      "name": "taxYear",
      "options": {
       "widgetDisplayType": "Text",
       "validationRegex": null
      },
      "parameterDataType": "String"
     },
     "widgetInfo": {
      "widgetType": "text",
      "defaultValue": "",
      "label": null,
      "name": "taxYear",
      "options": {
       "widgetType": "text",
       "autoCreated": null,
       "validationRegex": null
      }
     }
    }
   }
  },
  "language_info": {
   "name": "python"
  }
 },
 "nbformat": 4,
 "nbformat_minor": 0
}
