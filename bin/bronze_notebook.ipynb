{
 "cells": [
  {
   "cell_type": "code",
   "execution_count": 0,
   "metadata": {
    "application/vnd.databricks.v1+cell": {
     "cellMetadata": {
      "byteLimit": 2048000,
      "rowLimit": 10000
     },
     "inputWidgets": {},
     "nuid": "266a8db5-7767-4ed0-abc7-cb094a884cf8",
     "showTitle": false,
     "tableResultSettingsMap": {},
     "title": ""
    }
   },
   "outputs": [],
   "source": [
    "from pyspark.sql.functions import *\n",
    "from pyspark.sql.types import *\n",
    "dbutils.widgets.text(\"env\",\"\")\n",
    "dbutils.widgets.text(\"client_id\",\"\")\n",
    "dbutils.widgets.text(\"tax_year\",\"\")\n",
    "env=dbutils.widgets.get(\"env\")\n",
    "tax_year=dbutils.widgets.get(\"tax_year\")\n",
    "client_id=dbutils.widgets.get(\"client_id\")"
   ]
  },
  {
   "cell_type": "code",
   "execution_count": 0,
   "metadata": {
    "application/vnd.databricks.v1+cell": {
     "cellMetadata": {
      "byteLimit": 2048000,
      "rowLimit": 10000
     },
     "inputWidgets": {},
     "nuid": "692caed7-1962-4312-bbf5-ede8787ecc3c",
     "showTitle": false,
     "tableResultSettingsMap": {},
     "title": ""
    }
   },
   "outputs": [],
   "source": [
    "import sys\n",
    "sys.path.append(\"/Workspace/Users/mayur10594@gmail.com/ETL_project\")"
   ]
  },
  {
   "cell_type": "code",
   "execution_count": 0,
   "metadata": {
    "application/vnd.databricks.v1+cell": {
     "cellMetadata": {
      "byteLimit": 2048000,
      "rowLimit": 10000
     },
     "inputWidgets": {},
     "nuid": "2ce0da17-ccb0-4b1c-9ffd-503196240726",
     "showTitle": false,
     "tableResultSettingsMap": {},
     "title": ""
    }
   },
   "outputs": [],
   "source": [
    "from config.utils import get_logger\n",
    "logger = get_logger(\"bronze_notebook\")"
   ]
  },
  {
   "cell_type": "code",
   "execution_count": 0,
   "metadata": {
    "application/vnd.databricks.v1+cell": {
     "cellMetadata": {
      "byteLimit": 2048000,
      "rowLimit": 10000
     },
     "inputWidgets": {},
     "nuid": "1b3f65fb-0b32-44f6-806a-36b3fda459d3",
     "showTitle": false,
     "tableResultSettingsMap": {},
     "title": ""
    }
   },
   "outputs": [],
   "source": [
    "import json, yaml, os\n",
    "from config.utils import load_config,create_tables"
   ]
  },
  {
   "cell_type": "code",
   "execution_count": 0,
   "metadata": {
    "application/vnd.databricks.v1+cell": {
     "cellMetadata": {
      "byteLimit": 2048000,
      "rowLimit": 10000
     },
     "inputWidgets": {},
     "nuid": "05e9fd97-1c0a-482c-b2e8-19cd589868e1",
     "showTitle": false,
     "tableResultSettingsMap": {},
     "title": ""
    }
   },
   "outputs": [],
   "source": [
    "path=\"/Workspace/Users/mayur10594@gmail.com/ETL_project/config/etl_main.yaml\"\n",
    "env_config,tables_config=load_config(path,env)"
   ]
  },
  {
   "cell_type": "code",
   "execution_count": 0,
   "metadata": {
    "application/vnd.databricks.v1+cell": {
     "cellMetadata": {
      "byteLimit": 2048000,
      "rowLimit": 10000
     },
     "inputWidgets": {},
     "nuid": "e3bd47a3-49f3-4458-9908-57620e849a42",
     "showTitle": false,
     "tableResultSettingsMap": {},
     "title": ""
    }
   },
   "outputs": [],
   "source": [
    "in_path=env_config['incoming_path']\n",
    "bronze_path=env_config['bronze_path']\n",
    "logger.info(f\"Loading data from {in_path}\")\n",
    "logger.info(f\"bronze_path is set to {bronze_path}\")\n",
    "logger.info(f\"env is set to {env}\")\n",
    "logger.info(f\"tax_year is set to {tax_year}\")\n",
    "logger.info(f\"client_id is set to {client_id}\")"
   ]
  },
  {
   "cell_type": "code",
   "execution_count": 0,
   "metadata": {
    "application/vnd.databricks.v1+cell": {
     "cellMetadata": {
      "byteLimit": 2048000,
      "rowLimit": 10000
     },
     "inputWidgets": {},
     "nuid": "8708f4f0-486e-492c-bd17-06cc8afbf5d4",
     "showTitle": false,
     "tableResultSettingsMap": {},
     "title": ""
    }
   },
   "outputs": [],
   "source": [
    "dbutils.fs.ls(in_path)"
   ]
  },
  {
   "cell_type": "code",
   "execution_count": 0,
   "metadata": {
    "application/vnd.databricks.v1+cell": {
     "cellMetadata": {
      "byteLimit": 2048000,
      "rowLimit": 10000
     },
     "inputWidgets": {},
     "nuid": "063583b1-f14c-4613-9431-bcca28a880d0",
     "showTitle": false,
     "tableResultSettingsMap": {},
     "title": ""
    }
   },
   "outputs": [],
   "source": [
    "df_trans=spark.read.csv(f\"{in_path}/transactions_data.csv\",header=True)\n",
    "logger.info(f\"df_trans has {df_trans.count()} rows\")\n",
    "df_users=spark.read.csv(f\"{in_path}/users_data.csv\",header=True)\n",
    "logger.info(f\"df_users has {df_users.count()} rows\")\n",
    "df_cards=spark.read.csv(f\"{in_path}/cards_data.csv\",header=True)\n",
    "logger.info(f\"df_cards has {df_cards.count()} rows\")"
   ]
  },
  {
   "cell_type": "code",
   "execution_count": 0,
   "metadata": {
    "application/vnd.databricks.v1+cell": {
     "cellMetadata": {
      "byteLimit": 2048000,
      "rowLimit": 10000
     },
     "inputWidgets": {},
     "nuid": "13e6cce3-833b-460c-8801-513cb65005e7",
     "showTitle": false,
     "tableResultSettingsMap": {},
     "title": ""
    }
   },
   "outputs": [],
   "source": [
    "from datetime import date\n",
    "date_str = date.today().strftime(\"%Y-%m-%d\")"
   ]
  },
  {
   "cell_type": "code",
   "execution_count": 0,
   "metadata": {
    "application/vnd.databricks.v1+cell": {
     "cellMetadata": {
      "byteLimit": 2048000,
      "rowLimit": 10000
     },
     "inputWidgets": {},
     "nuid": "cf4a111c-2eec-4f5f-9a19-818b432e6655",
     "showTitle": false,
     "tableResultSettingsMap": {},
     "title": ""
    }
   },
   "outputs": [],
   "source": [
    "df_trans.write.mode(\"overwrite\").format(\"parquet\").save(f\"{bronze_path}/{tax_year}/{client_id}/{date_str}/transactions_data\")\n",
    "logger.info(f\"df_trans saved to {bronze_path}/{tax_year}/{client_id}/{date_str}/transactions_data\")\n",
    "df_users.write.mode(\"overwrite\").format(\"parquet\").save(f\"{bronze_path}/{tax_year}/{client_id}/{date_str}/users_data\")\n",
    "logger.info(f\"df_users saved to {bronze_path}/{tax_year}/{client_id}/{date_str}/users_data\")\n",
    "df_cards.write.mode(\"overwrite\").format(\"parquet\").save(f\"{bronze_path}/{tax_year}/{client_id}/{date_str}/cards_data\")\n",
    "logger.info(f\"df_cards saved to {bronze_path}/{tax_year}/{client_id}/{date_str}/cards_data\")\n"
   ]
  },
  {
   "cell_type": "code",
   "execution_count": 0,
   "metadata": {
    "application/vnd.databricks.v1+cell": {
     "cellMetadata": {},
     "inputWidgets": {},
     "nuid": "5d7f43b8-8567-4ff0-9cb7-2a38ea86f993",
     "showTitle": false,
     "tableResultSettingsMap": {},
     "title": ""
    }
   },
   "outputs": [],
   "source": [
    "logger.info(\"bronze_notebook executed successfully!!\")\n",
    "dbutils.notebook.exit(json.dumps({\n",
    "    \"bronze_path\" : f\"{bronze_path}/{tax_year}/{client_id}/{date_str}/transactions_data\"\n",
    "}))"
   ]
  },
  {
   "cell_type": "code",
   "execution_count": 0,
   "metadata": {
    "application/vnd.databricks.v1+cell": {
     "cellMetadata": {},
     "inputWidgets": {},
     "nuid": "07c3bb3c-13ad-46f8-9ec9-c3715c079b47",
     "showTitle": false,
     "tableResultSettingsMap": {},
     "title": ""
    }
   },
   "outputs": [],
   "source": []
  }
 ],
 "metadata": {
  "application/vnd.databricks.v1+notebook": {
   "computePreferences": null,
   "dashboards": [],
   "environmentMetadata": {
    "base_environment": "",
    "environment_version": "3"
   },
   "inputWidgetPreferences": null,
   "language": "python",
   "notebookMetadata": {
    "pythonIndentUnit": 4
   },
   "notebookName": "bronze_notebook",
   "widgets": {
    "client_id": {
     "currentValue": "",
     "nuid": "badc191a-5d1a-433c-88b9-9354351642c7",
     "typedWidgetInfo": {
      "autoCreated": false,
      "defaultValue": "",
      "label": null,
      "name": "client_id",
      "options": {
       "widgetDisplayType": "Text",
       "validationRegex": null
      },
      "parameterDataType": "String"
     },
     "widgetInfo": {
      "widgetType": "text",
      "defaultValue": "",
      "label": null,
      "name": "client_id",
      "options": {
       "widgetType": "text",
       "autoCreated": null,
       "validationRegex": null
      }
     }
    },
    "env": {
     "currentValue": "",
     "nuid": "27eca06e-a238-431b-a94b-861c02cf6515",
     "typedWidgetInfo": {
      "autoCreated": false,
      "defaultValue": "",
      "label": null,
      "name": "env",
      "options": {
       "widgetDisplayType": "Text",
       "validationRegex": null
      },
      "parameterDataType": "String"
     },
     "widgetInfo": {
      "widgetType": "text",
      "defaultValue": "",
      "label": null,
      "name": "env",
      "options": {
       "widgetType": "text",
       "autoCreated": null,
       "validationRegex": null
      }
     }
    },
    "tax_year": {
     "currentValue": "",
     "nuid": "2f261388-c9c8-43a9-9cf2-93ca5e5f96dc",
     "typedWidgetInfo": {
      "autoCreated": false,
      "defaultValue": "",
      "label": null,
      "name": "tax_year",
      "options": {
       "widgetDisplayType": "Text",
       "validationRegex": null
      },
      "parameterDataType": "String"
     },
     "widgetInfo": {
      "widgetType": "text",
      "defaultValue": "",
      "label": null,
      "name": "tax_year",
      "options": {
       "widgetType": "text",
       "autoCreated": null,
       "validationRegex": null
      }
     }
    }
   }
  },
  "language_info": {
   "name": "python"
  }
 },
 "nbformat": 4,
 "nbformat_minor": 0
}
