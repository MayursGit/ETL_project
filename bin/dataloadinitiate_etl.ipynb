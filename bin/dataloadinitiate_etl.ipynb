{
 "cells": [
  {
   "cell_type": "code",
   "execution_count": 0,
   "metadata": {
    "application/vnd.databricks.v1+cell": {
     "cellMetadata": {
      "byteLimit": 2048000,
      "rowLimit": 10000
     },
     "inputWidgets": {},
     "nuid": "e7c84400-fe38-46d5-b23f-9f0d22fb11db",
     "showTitle": false,
     "tableResultSettingsMap": {},
     "title": ""
    }
   },
   "outputs": [],
   "source": [
    "%load_ext autoreload\n",
    "%autoreload 2\n",
    "# Enables autoreload; learn more at https://docs.databricks.com/en/files/workspace-modules.html#autoreload-for-python-modules\n",
    "# To disable autoreload; run %autoreload 0"
   ]
  },
  {
   "cell_type": "code",
   "execution_count": 0,
   "metadata": {
    "application/vnd.databricks.v1+cell": {
     "cellMetadata": {
      "byteLimit": 2048000,
      "rowLimit": 10000
     },
     "inputWidgets": {},
     "nuid": "121e8c0a-539a-4b9e-b48b-f16b65c3da4f",
     "showTitle": false,
     "tableResultSettingsMap": {},
     "title": ""
    }
   },
   "outputs": [],
   "source": [
    "from pyspark.sql.functions import *\n",
    "from pyspark.sql.types import *\n",
    "import pkgutil, importlib"
   ]
  },
  {
   "cell_type": "code",
   "execution_count": 0,
   "metadata": {
    "application/vnd.databricks.v1+cell": {
     "cellMetadata": {
      "byteLimit": 2048000,
      "rowLimit": 10000
     },
     "inputWidgets": {},
     "nuid": "d4bbe0e4-7270-4466-8b39-098676f54bf4",
     "showTitle": false,
     "tableResultSettingsMap": {},
     "title": ""
    }
   },
   "outputs": [],
   "source": [
    "import sys\n",
    "sys.path.append(\"/Workspace/Users/mayur10594@gmail.com/ETL_project\")\n",
    "from config.utils import get_logger\n",
    "logger = get_logger(\"dataloadinitiate\")"
   ]
  },
  {
   "cell_type": "code",
   "execution_count": 0,
   "metadata": {
    "application/vnd.databricks.v1+cell": {
     "cellMetadata": {
      "byteLimit": 2048000,
      "rowLimit": 10000
     },
     "inputWidgets": {},
     "nuid": "3442ed43-22ca-4141-8c12-bf53abb0718c",
     "showTitle": false,
     "tableResultSettingsMap": {},
     "title": ""
    }
   },
   "outputs": [],
   "source": [
    "import json, yaml, os\n",
    "from config.utils import load_config,create_tables,load_all_schemas\n"
   ]
  },
  {
   "cell_type": "code",
   "execution_count": 0,
   "metadata": {
    "application/vnd.databricks.v1+cell": {
     "cellMetadata": {
      "byteLimit": 2048000,
      "rowLimit": 10000
     },
     "inputWidgets": {},
     "nuid": "3c56821c-bd8e-41e7-9dc5-574ce7f90728",
     "showTitle": false,
     "tableResultSettingsMap": {},
     "title": ""
    }
   },
   "outputs": [],
   "source": [
    "with open(\"../config/pipeline.yaml\", \"r\") as f:\n",
    "    pipeline_config = yaml.safe_load(f)"
   ]
  },
  {
   "cell_type": "code",
   "execution_count": 0,
   "metadata": {
    "application/vnd.databricks.v1+cell": {
     "cellMetadata": {
      "byteLimit": 2048000,
      "rowLimit": 10000
     },
     "inputWidgets": {},
     "nuid": "2f4e4f6a-26af-4be5-99a5-395c6c746d4e",
     "showTitle": false,
     "tableResultSettingsMap": {},
     "title": ""
    }
   },
   "outputs": [],
   "source": [
    "from silver_transformations.add_audit_cols import add_audit_cols"
   ]
  },
  {
   "cell_type": "code",
   "execution_count": 0,
   "metadata": {
    "application/vnd.databricks.v1+cell": {
     "cellMetadata": {
      "byteLimit": 2048000,
      "rowLimit": 10000
     },
     "inputWidgets": {},
     "nuid": "f4b0149a-5db6-4917-8d3f-2c1f945b17cd",
     "showTitle": false,
     "tableResultSettingsMap": {},
     "title": ""
    }
   },
   "outputs": [],
   "source": [
    "schemas_map = load_all_schemas()\n",
    "print(\"All schemas loaded:\", schemas_map.keys())"
   ]
  },
  {
   "cell_type": "code",
   "execution_count": 0,
   "metadata": {
    "application/vnd.databricks.v1+cell": {
     "cellMetadata": {
      "byteLimit": 2048000,
      "rowLimit": 10000
     },
     "inputWidgets": {},
     "nuid": "9105e7f6-3d02-4741-9dce-f7cd20b76a10",
     "showTitle": false,
     "tableResultSettingsMap": {},
     "title": ""
    }
   },
   "outputs": [],
   "source": [
    "dbutils.widgets.text(\"fileList\", \"\")\n",
    "dbutils.widgets.text(\"taxYear\", \"\")\n",
    "dbutils.widgets.text(\"clientId\", \"\")\n",
    "dbutils.widgets.text(\"env\",\"\")\n",
    "dbutils.widgets.text(\"bronze_path\", \"\")\n",
    "dbutils.widgets.text(\"maps\",\"\")\n",
    "fileList = dbutils.widgets.get(\"fileList\")\n",
    "taxYear = dbutils.widgets.get(\"taxYear\")\n",
    "clientId = dbutils.widgets.get(\"clientId\")\n",
    "env = dbutils.widgets.get(\"env\")\n",
    "bronze_path = dbutils.widgets.get(\"bronze_path\")\n",
    "maps=json.loads(dbutils.widgets.get(\"maps\"))\n",
    "logger.info(f\"fileList: {fileList}, taxYear: {taxYear}, clientId: {clientId}, env: {env}, bronze_path: {bronze_path}\")"
   ]
  },
  {
   "cell_type": "code",
   "execution_count": 0,
   "metadata": {
    "application/vnd.databricks.v1+cell": {
     "cellMetadata": {
      "byteLimit": 2048000,
      "rowLimit": 10000
     },
     "inputWidgets": {},
     "nuid": "8f6063ff-8c9f-4652-ad09-c722a0a27035",
     "showTitle": false,
     "tableResultSettingsMap": {},
     "title": ""
    }
   },
   "outputs": [],
   "source": [
    "# if \",\" in fileList:\n",
    "#     files=list(fileList.split(\",\"))\n",
    "#     logger.info(f\"files to be processed: {fileList}\")\n",
    "# else:\n",
    "#     files=[fileList]\n",
    "#     logger.info(f\"only single file to be processed: {fileList}\")"
   ]
  },
  {
   "cell_type": "code",
   "execution_count": 0,
   "metadata": {
    "application/vnd.databricks.v1+cell": {
     "cellMetadata": {
      "byteLimit": 2048000,
      "rowLimit": 10000
     },
     "inputWidgets": {},
     "nuid": "f2fd737c-5ae6-4315-9917-d3578dc490cc",
     "showTitle": false,
     "tableResultSettingsMap": {},
     "title": ""
    }
   },
   "outputs": [],
   "source": [
    "# maps=[]\n",
    "# for file in files:\n",
    "#     maps.append(file.split(\"_\")[0])\n",
    "#     #print(file)\n",
    "# logger.info(f\"maps to be processed are {maps}\")"
   ]
  },
  {
   "cell_type": "code",
   "execution_count": 0,
   "metadata": {
    "application/vnd.databricks.v1+cell": {
     "cellMetadata": {
      "byteLimit": 2048000,
      "rowLimit": 10000
     },
     "inputWidgets": {},
     "nuid": "f4823421-d07c-4f1f-81ec-78af3c23dac3",
     "showTitle": false,
     "tableResultSettingsMap": {},
     "title": ""
    }
   },
   "outputs": [],
   "source": [
    "path=\"/Workspace/Users/mayur10594@gmail.com/ETL_project/config/etl_main.yaml\"\n",
    "env_config,tables_config=load_config(path,env)"
   ]
  },
  {
   "cell_type": "code",
   "execution_count": 0,
   "metadata": {
    "application/vnd.databricks.v1+cell": {
     "cellMetadata": {
      "byteLimit": 2048000,
      "rowLimit": 10000
     },
     "inputWidgets": {},
     "nuid": "75536f69-48e5-43c4-b5a8-25ed8610521e",
     "showTitle": false,
     "tableResultSettingsMap": {},
     "title": ""
    }
   },
   "outputs": [],
   "source": [
    "# in_path=env_config['incoming_path']"
   ]
  },
  {
   "cell_type": "code",
   "execution_count": 0,
   "metadata": {
    "application/vnd.databricks.v1+cell": {
     "cellMetadata": {
      "byteLimit": 2048000,
      "rowLimit": 10000
     },
     "inputWidgets": {},
     "nuid": "d465908b-603b-4c30-971e-e9036e08ec0c",
     "showTitle": false,
     "tableResultSettingsMap": {},
     "title": ""
    }
   },
   "outputs": [],
   "source": [
    "# in_files=[f.name for f in dbutils.fs.ls(in_path)]\n",
    "# for file in files:\n",
    "#         if file in in_files:\n",
    "#             #print(f\"File {file} exists\")\n",
    "#             logger.info(f\"File {file} exists\")\n",
    "#         else:\n",
    "#             #print(f\"File {file} does not exist in incoming folder, Please check & re-run again\")\n",
    "#             logger.error(f\"File {file} does not exist in incoming folder, Please check & re-run again\")\n",
    "#             dbutils.notebook.exit(\"Missing File\")\n",
    "        "
   ]
  },
  {
   "cell_type": "code",
   "execution_count": 0,
   "metadata": {
    "application/vnd.databricks.v1+cell": {
     "cellMetadata": {
      "byteLimit": 2048000,
      "rowLimit": 10000
     },
     "inputWidgets": {},
     "nuid": "564f9816-f3be-4282-bdb0-6dcb14cca7e2",
     "showTitle": false,
     "tableResultSettingsMap": {},
     "title": ""
    }
   },
   "outputs": [],
   "source": [
    "# def add_audit_cols(df):\n",
    "#     df = df.withColumn(\"create_date\",lit(current_date())).withColumn(\"create_user\",lit('cpprod'))\n",
    "#     return df"
   ]
  },
  {
   "cell_type": "code",
   "execution_count": 0,
   "metadata": {
    "application/vnd.databricks.v1+cell": {
     "cellMetadata": {
      "byteLimit": 2048000,
      "rowLimit": 10000
     },
     "inputWidgets": {},
     "nuid": "6ee80221-5fe0-4399-9086-bcc2b971dca0",
     "showTitle": false,
     "tableResultSettingsMap": {},
     "title": ""
    }
   },
   "outputs": [],
   "source": [
    "# Dictionary to hold DataFrames\n",
    "dfs = {}\n",
    "\n",
    "for map_name in maps:\n",
    "    # Build CSV path\n",
    "    # csv_path = f\"{in_path}/{map_name}_data.csv\"\n",
    "    parquet_path=f\"{bronze_path}/{map_name}_data/\"\n",
    "    # Evaluate schema string (assumes map_name_schema exists as a variable)\n",
    "    #schema = schemas_map[f\"{map_name}.{map_name}\"]\n",
    "    # Read CSV into DataFrame\n",
    "    transformations = pipeline_config[map_name]\n",
    "    df = spark.read.parquet(parquet_path)\n",
    "    #df = spark.read.csv(csv_path, schema=schema, header=True)\n",
    "    df = df.transform(add_audit_cols(df,f\"{map_name}_data\"))\n",
    "    # Store in dictionary\n",
    "    dfs[map_name] = df\n",
    "    #print(f\"df_{map_name} is created and stored in dfs['{map_name}']\")\n",
    "    logger.info(f\"df_{map_name} is created and stored in dfs['{map_name}']\")\n"
   ]
  },
  {
   "cell_type": "code",
   "execution_count": 0,
   "metadata": {
    "application/vnd.databricks.v1+cell": {
     "cellMetadata": {
      "byteLimit": 2048000,
      "rowLimit": 10000
     },
     "inputWidgets": {},
     "nuid": "b8bda45a-0a1e-4939-90c8-b173f1a9d597",
     "showTitle": false,
     "tableResultSettingsMap": {
      "0": {
       "dataGridStateBlob": "{\"version\":1,\"tableState\":{\"columnPinning\":{\"left\":[\"#row_number#\"],\"right\":[]},\"columnSizing\":{},\"columnVisibility\":{}},\"settings\":{\"columns\":{}},\"syncTimestamp\":1759079447034}",
       "filterBlob": null,
       "queryPlanFiltersBlob": null,
       "tableResultIndex": 0
      }
     },
     "title": ""
    }
   },
   "outputs": [],
   "source": [
    "dfs['cards'].display()"
   ]
  },
  {
   "cell_type": "code",
   "execution_count": 0,
   "metadata": {
    "application/vnd.databricks.v1+cell": {
     "cellMetadata": {
      "byteLimit": 2048000,
      "rowLimit": 10000
     },
     "inputWidgets": {},
     "nuid": "fa142ac8-4f1d-4e39-a4e9-4455ce6ecae0",
     "showTitle": false,
     "tableResultSettingsMap": {},
     "title": ""
    }
   },
   "outputs": [],
   "source": [
    "for name,df in dfs.items():\n",
    "    count={}\n",
    "    df.write.format(\"delta\").options(mergeSchema=True).mode('append').saveAsTable(f\"cp_database.{clientId}_{name}\")\n",
    "    count[name]=df.count()\n",
    "    #print(f\"{df} written to delta table cp_database.{clientId}_{name}\")\n",
    "    logger.info(f\"{df} written to delta table cp_database.{clientId}_{name}\")\n"
   ]
  },
  {
   "cell_type": "code",
   "execution_count": 0,
   "metadata": {
    "application/vnd.databricks.v1+cell": {
     "cellMetadata": {
      "byteLimit": 2048000,
      "rowLimit": 10000
     },
     "inputWidgets": {},
     "nuid": "57ae007f-ec4a-4936-83dd-acffa0e89a5e",
     "showTitle": false,
     "tableResultSettingsMap": {},
     "title": ""
    }
   },
   "outputs": [],
   "source": [
    "logger.info(f\"exiting the dataloadinitiate notebook\")\n",
    "dbutils.notebook.exit(json.dumps({\n",
    "    \"status\": \"OK\",\n",
    "    \"message\": \"All files processed successfully\",\n",
    "    \"counts\": count\n",
    "}))"
   ]
  }
 ],
 "metadata": {
  "application/vnd.databricks.v1+notebook": {
   "computePreferences": {
    "hardware": {
     "accelerator": null,
     "gpuPoolId": null,
     "memory": null
    }
   },
   "dashboards": [],
   "environmentMetadata": {
    "base_environment": "",
    "environment_version": "3"
   },
   "inputWidgetPreferences": null,
   "language": "python",
   "notebookMetadata": {
    "mostRecentlyExecutedCommandWithImplicitDF": {
     "commandId": 6565259222907701,
     "dataframes": [
      "_sqldf"
     ]
    },
    "pythonIndentUnit": 4
   },
   "notebookName": "dataloadinitiate_etl",
   "widgets": {
    "bronze_path": {
     "currentValue": "/Volumes/workspace/default/bronze/2024/se2/2025-09-28",
     "nuid": "bc9ea15b-14a9-4288-9043-1ae3124d04c4",
     "typedWidgetInfo": {
      "autoCreated": false,
      "defaultValue": "",
      "label": null,
      "name": "bronze_path",
      "options": {
       "widgetDisplayType": "Text",
       "validationRegex": null
      },
      "parameterDataType": "String"
     },
     "widgetInfo": {
      "widgetType": "text",
      "defaultValue": "",
      "label": null,
      "name": "bronze_path",
      "options": {
       "widgetType": "text",
       "autoCreated": null,
       "validationRegex": null
      }
     }
    },
    "clientId": {
     "currentValue": "se2",
     "nuid": "f310c1ec-3815-4997-a56c-649ffb663747",
     "typedWidgetInfo": {
      "autoCreated": false,
      "defaultValue": "",
      "label": null,
      "name": "clientId",
      "options": {
       "widgetDisplayType": "Text",
       "validationRegex": null
      },
      "parameterDataType": "String"
     },
     "widgetInfo": {
      "widgetType": "text",
      "defaultValue": "",
      "label": null,
      "name": "clientId",
      "options": {
       "widgetType": "text",
       "autoCreated": null,
       "validationRegex": null
      }
     }
    },
    "env": {
     "currentValue": "dev",
     "nuid": "97a2a6c2-6c39-491b-a8fd-bdf0eb2a1b97",
     "typedWidgetInfo": {
      "autoCreated": false,
      "defaultValue": "",
      "label": null,
      "name": "env",
      "options": {
       "widgetDisplayType": "Text",
       "validationRegex": null
      },
      "parameterDataType": "String"
     },
     "widgetInfo": {
      "widgetType": "text",
      "defaultValue": "",
      "label": null,
      "name": "env",
      "options": {
       "widgetType": "text",
       "autoCreated": null,
       "validationRegex": null
      }
     }
    },
    "fileList": {
     "currentValue": "cards_data.csv,users_data.csv,transactions_data.csv",
     "nuid": "8bb8124f-fb38-4ee9-baac-b6bbfb5176a8",
     "typedWidgetInfo": {
      "autoCreated": false,
      "defaultValue": "",
      "label": null,
      "name": "fileList",
      "options": {
       "widgetDisplayType": "Text",
       "validationRegex": null
      },
      "parameterDataType": "String"
     },
     "widgetInfo": {
      "widgetType": "text",
      "defaultValue": "",
      "label": null,
      "name": "fileList",
      "options": {
       "widgetType": "text",
       "autoCreated": null,
       "validationRegex": null
      }
     }
    },
    "maps": {
     "currentValue": " [\"cards\", \"users\", \"transactions\"]",
     "nuid": "61fb3a51-4c24-400e-b45e-549c3d0d9a6c",
     "typedWidgetInfo": {
      "autoCreated": false,
      "defaultValue": "",
      "label": null,
      "name": "maps",
      "options": {
       "widgetDisplayType": "Text",
       "validationRegex": null
      },
      "parameterDataType": "String"
     },
     "widgetInfo": {
      "widgetType": "text",
      "defaultValue": "",
      "label": null,
      "name": "maps",
      "options": {
       "widgetType": "text",
       "autoCreated": null,
       "validationRegex": null
      }
     }
    },
    "taxYear": {
     "currentValue": "2024",
     "nuid": "e6edd7fb-56db-4ab0-aa70-33db93984b04",
     "typedWidgetInfo": {
      "autoCreated": false,
      "defaultValue": "",
      "label": null,
      "name": "taxYear",
      "options": {
       "widgetDisplayType": "Text",
       "validationRegex": null
      },
      "parameterDataType": "String"
     },
     "widgetInfo": {
      "widgetType": "text",
      "defaultValue": "",
      "label": null,
      "name": "taxYear",
      "options": {
       "widgetType": "text",
       "autoCreated": null,
       "validationRegex": null
      }
     }
    }
   }
  },
  "language_info": {
   "name": "python"
  }
 },
 "nbformat": 4,
 "nbformat_minor": 0
}
